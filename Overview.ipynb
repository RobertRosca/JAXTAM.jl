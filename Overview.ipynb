{
 "cells": [
  {
   "cell_type": "code",
   "execution_count": 5,
   "metadata": {},
   "outputs": [
    {
     "data": {
      "text/plain": [
       "\"/home/robert/Projects/JAXTAM/Project.toml\""
      ]
     },
     "execution_count": 5,
     "metadata": {},
     "output_type": "execute_result"
    }
   ],
   "source": [
    "using Pkg\n",
    "Pkg.activate(\"\")\n",
    "using JAXTAM"
   ]
  },
  {
   "cell_type": "markdown",
   "metadata": {},
   "source": [
    "# Mission Configuration\n",
    "\n",
    "Julia uses multiple dispatch, where functions can have the same name, but will perform different actions depending on the types of inputs provided. JAXTAM uses this to handle different missions\n",
    "\n",
    "There is an abstract type called `Mission`, and various functions take in subtypes of `Mission` to perform different actions:"
   ]
  },
  {
   "cell_type": "code",
   "execution_count": 7,
   "metadata": {},
   "outputs": [
    {
     "data": {
      "text/latex": [
       "\\begin{verbatim}\n",
       "Mission\n",
       "\\end{verbatim}\n",
       "Each mission must have some defined functions:\n",
       "\n",
       "\\texttt{\\_mission\\_name(<:Mission)} - returns the name of the mission\n",
       "\n",
       "\\texttt{\\_mission\\_master\\_url(<:Mission)} - returns the url to the HEASARC master table (.tdat.gz) file\n",
       "\n",
       "\\texttt{\\_mission\\_paths(<:Mission)} - returns a \\texttt{NamedTuple} with entries corresponding to folder and file paths:\n",
       "\n",
       "\\begin{itemize}\n",
       "\\item download - path the observation folder will be downloaded to from the FTP\n",
       "\n",
       "\n",
       "\\item jaxtam   - path JAXTAM-generated files will be saved to\n",
       "\n",
       "\n",
       "\\item web      - path the web report files will be saved to\n",
       "\n",
       "\n",
       "\\item rmf      - path to the \\textbf{local} copy of the mission RMF file from caldb\n",
       "\n",
       "\\end{itemize}\n",
       "\\texttt{\\_mission\\_path\\_obs\\_server(<:Mission, obs\\_row::Union\\{DataFrame,DataFrameRow\\{DataFrame\\}\\})} - returns the \\textbf{server-side} path to an observation\n",
       "\n",
       "\\texttt{\\_mission\\_good\\_e\\_range(<:Mission)} - returns a \\texttt{Tuple\\{Float64,Float64\\}} of the \\textbf{low} and \\textbf{high} good energy ranges, respectively\n",
       "\n",
       "\\texttt{\\_mission\\_instruments(<:Mission)} - returns a \\texttt{Array\\{Symbol1,\\}} with each element as a symbol of the instrument name, e.g. [:FPMA, :FPMB] for NuSTAR\n",
       "\n",
       "Look at /src/missions/nicer.jl for an example. Put any custom mission functions in /src/missions/custom/ folder.\n",
       "\n"
      ],
      "text/markdown": [
       "```\n",
       "Mission\n",
       "```\n",
       "\n",
       "Each mission must have some defined functions:\n",
       "\n",
       "`_mission_name(<:Mission)` - returns the name of the mission\n",
       "\n",
       "`_mission_master_url(<:Mission)` - returns the url to the HEASARC master table (.tdat.gz) file\n",
       "\n",
       "`_mission_paths(<:Mission)` - returns a `NamedTuple` with entries corresponding to folder and file paths:\n",
       "\n",
       "  * download - path the observation folder will be downloaded to from the FTP\n",
       "  * jaxtam   - path JAXTAM-generated files will be saved to\n",
       "  * web      - path the web report files will be saved to\n",
       "  * rmf      - path to the **local** copy of the mission RMF file from caldb\n",
       "\n",
       "`_mission_path_obs_server(<:Mission, obs_row::Union{DataFrame,DataFrameRow{DataFrame}})` - returns the **server-side** path to an observation\n",
       "\n",
       "`_mission_good_e_range(<:Mission)` - returns a `Tuple{Float64,Float64}` of the **low** and **high** good energy ranges, respectively\n",
       "\n",
       "`_mission_instruments(<:Mission)` - returns a `Array{Symbol1,}` with each element as a symbol of the instrument name, e.g. [:FPMA, :FPMB] for NuSTAR\n",
       "\n",
       "Look at /src/missions/nicer.jl for an example. Put any custom mission functions in /src/missions/custom/ folder.\n"
      ],
      "text/plain": [
       "  \u001b[39mMission\u001b[0m\u001b[39m\u001b[0m\n",
       "\n",
       "\n",
       "  Each mission must have some defined functions:\n",
       "\n",
       "  \u001b[36m_mission_name(<:Mission)\u001b[39m - returns the name of the mission\n",
       "\n",
       "  \u001b[36m_mission_master_url(<:Mission)\u001b[39m - returns the url to the HEASARC master table\n",
       "  (.tdat.gz) file\n",
       "\n",
       "  \u001b[36m_mission_paths(<:Mission)\u001b[39m - returns a \u001b[36mNamedTuple\u001b[39m with entries corresponding\n",
       "  to folder and file paths:\n",
       "\n",
       "    •    download - path the observation folder will be downloaded to from\n",
       "        the FTP\n",
       "\n",
       "    •    jaxtam - path JAXTAM-generated files will be saved to\n",
       "\n",
       "    •    web - path the web report files will be saved to\n",
       "\n",
       "    •    rmf - path to the \u001b[1mlocal\u001b[22m copy of the mission RMF file from caldb\n",
       "\n",
       "  \u001b[36m_mission_path_obs_server(<:Mission,\n",
       "  obs_row::Union{DataFrame,DataFrameRow{DataFrame}})\u001b[39m - returns the \u001b[1mserver-side\u001b[22m\n",
       "  path to an observation\n",
       "\n",
       "  \u001b[36m_mission_good_e_range(<:Mission)\u001b[39m - returns a \u001b[36mTuple{Float64,Float64}\u001b[39m of the\n",
       "  \u001b[1mlow\u001b[22m and \u001b[1mhigh\u001b[22m good energy ranges, respectively\n",
       "\n",
       "  \u001b[36m_mission_instruments(<:Mission)\u001b[39m - returns a \u001b[36mArray{Symbol1,}\u001b[39m with each\n",
       "  element as a symbol of the instrument name, e.g. [:FPMA, :FPMB] for NuSTAR\n",
       "\n",
       "  Look at /src/missions/nicer.jl for an example. Put any custom mission\n",
       "  functions in /src/missions/custom/ folder."
      ]
     },
     "execution_count": 7,
     "metadata": {},
     "output_type": "execute_result"
    }
   ],
   "source": [
    "?JAXTAM.Mission"
   ]
  },
  {
   "cell_type": "markdown",
   "metadata": {},
   "source": [
    "So, for each mission a new type is created with the mission name, and functions are made which take this type in and return the relevant values\n",
    "\n",
    "A constant object of this type is then initialised, and exported to the global scope\n",
    "\n",
    "Check the code in `src/missions/base/nicer.jl` to see how this works\n",
    "\n",
    "For example, the NICER mission provides:"
   ]
  },
  {
   "cell_type": "code",
   "execution_count": 8,
   "metadata": {},
   "outputs": [
    {
     "data": {
      "text/plain": [
       "JAXTAM.NICER"
      ]
     },
     "execution_count": 8,
     "metadata": {},
     "output_type": "execute_result"
    }
   ],
   "source": [
    "JAXTAM.NICER # The NICER type"
   ]
  },
  {
   "cell_type": "code",
   "execution_count": 9,
   "metadata": {},
   "outputs": [
    {
     "data": {
      "text/plain": [
       "JAXTAM.NICER()"
      ]
     },
     "execution_count": 9,
     "metadata": {},
     "output_type": "execute_result"
    }
   ],
   "source": [
    "nicer # An exported constant object, equivalent to nicer = JAXTAM.NICER()"
   ]
  },
  {
   "cell_type": "code",
   "execution_count": 10,
   "metadata": {},
   "outputs": [
    {
     "data": {
      "text/plain": [
       "\"nicer\""
      ]
     },
     "execution_count": 10,
     "metadata": {},
     "output_type": "execute_result"
    }
   ],
   "source": [
    "JAXTAM._mission_name(nicer)"
   ]
  },
  {
   "cell_type": "code",
   "execution_count": 11,
   "metadata": {},
   "outputs": [
    {
     "data": {
      "text/plain": [
       "\"https://heasarc.gsfc.nasa.gov/FTP/heasarc/dbase/tdat_files/heasarc_nicermastr.tdat.gz\""
      ]
     },
     "execution_count": 11,
     "metadata": {},
     "output_type": "execute_result"
    }
   ],
   "source": [
    "JAXTAM._mission_master_url(nicer)"
   ]
  },
  {
   "cell_type": "code",
   "execution_count": 12,
   "metadata": {},
   "outputs": [
    {
     "data": {
      "text/plain": [
       "(0.2, 12.0)"
      ]
     },
     "execution_count": 12,
     "metadata": {},
     "output_type": "execute_result"
    }
   ],
   "source": [
    "JAXTAM._mission_good_e_range(nicer)"
   ]
  },
  {
   "cell_type": "code",
   "execution_count": 13,
   "metadata": {},
   "outputs": [
    {
     "data": {
      "text/plain": [
       "1-element Array{Symbol,1}:\n",
       " :XTI"
      ]
     },
     "execution_count": 13,
     "metadata": {},
     "output_type": "execute_result"
    }
   ],
   "source": [
    "JAXTAM._mission_instruments(nicer)"
   ]
  },
  {
   "cell_type": "markdown",
   "metadata": {},
   "source": [
    "Additionally, there is a `mission_paths` function which is used by the user to set up the various directory paths required for download and analysis. This will attempt to read the paths from a json file, and if no entries for the mission exist it will prompt the user for the paths"
   ]
  },
  {
   "cell_type": "code",
   "execution_count": 20,
   "metadata": {},
   "outputs": [
    {
     "data": {
      "text/plain": [
       "(web = \"/media/robert/data/heasarc/nicer/web\", jaxtam = \"/media/robert/data/heasarc/nicer/jaxtam\", rmf = \"/home/robert/Software/caldb/data/nicer/xti/cpf/rmf/nixtiref20170601v001.rmf\", download = \"/media/robert/data/heasarc/nicer/download\")"
      ]
     },
     "execution_count": 20,
     "metadata": {},
     "output_type": "execute_result"
    }
   ],
   "source": [
    "JAXTAM.mission_paths(nicer)"
   ]
  },
  {
   "cell_type": "markdown",
   "metadata": {},
   "source": [
    "There's also the very important `_mission_path_obs_server` function, which will be covered later\n",
    "\n",
    "This multiple-dispatch style is used to make it easy to expand or build on the code base. For example, a user might require some other mission-related function and want to easily integrate this with the JAXTAM module. All that needs to be done is to dispatch that function onto the `NICER` type:"
   ]
  },
  {
   "cell_type": "code",
   "execution_count": 17,
   "metadata": {},
   "outputs": [
    {
     "data": {
      "text/plain": [
       "200"
      ]
     },
     "execution_count": 17,
     "metadata": {},
     "output_type": "execute_result"
    }
   ],
   "source": [
    "_mission_max_temp(::JAXTAM.NICER) = 200\n",
    "\n",
    "_mission_max_temp(nicer)"
   ]
  },
  {
   "cell_type": "markdown",
   "metadata": {},
   "source": [
    "# Master Tables\n",
    "\n",
    "Using the `_mission_master_url` function, JAXTAM can download and set up the mission's master table:"
   ]
  },
  {
   "cell_type": "code",
   "execution_count": 21,
   "metadata": {},
   "outputs": [
    {
     "name": "stderr",
     "output_type": "stream",
     "text": [
      "┌ Info: Loading /media/robert/data/heasarc/nicer/jaxtam/master.feather\n",
      "└ @ JAXTAM /home/robert/Projects/JAXTAM/src/io/master_tables.jl:133\n",
      "┌ Info: Loading /media/robert/data/heasarc/nicer/jaxtam/append.feather\n",
      "└ @ JAXTAM /home/robert/Projects/JAXTAM/src/io/master_tables.jl:219\n"
     ]
    },
    {
     "data": {
      "text/html": [
       "<table class=\"data-frame\"><thead><tr><th></th><th>name</th><th>ra</th><th>dec</th><th>lii</th><th>bii</th><th>time</th><th>end_time</th><th>obsid</th><th>exposure</th><th>time_awarded</th><th>num_fpm</th><th>processing_status</th><th>processing_date</th><th>public_date</th><th>processing_version</th><th>num_processed</th><th>caldb_version</th><th>software_version</th><th>prnb</th><th>abstract</th><th>subject_category</th><th>category_code</th><th>pi_lname</th><th>pi_fname</th><th>cycle</th><th>obs_type</th><th>title</th><th>remarks</th><th>publicity</th><th>logged</th><th>downloaded</th></tr><tr><th></th><th>String</th><th>Float64</th><th>Float64</th><th>Float64</th><th>Float64</th><th>Arrow…</th><th>Arrow…</th><th>String</th><th>Float64</th><th>Float64</th><th>Int64</th><th>String</th><th>Arrow…</th><th>Arrow…</th><th>String</th><th>Int64</th><th>String</th><th>String</th><th>String</th><th>String</th><th>String</th><th>Int64</th><th>String</th><th>String</th><th>Int64</th><th>String</th><th>String</th><th>String</th><th>Bool</th><th>Bool</th><th>Bool</th></tr></thead><tbody><p>10,626 rows × 31 columns</p><tr><th>1</th><td>1A_0535+262</td><td>84.3791</td><td>26.1659</td><td>181.405</td><td>-2.98776</td><td>2018-09-24T14:04:52</td><td>2018-09-24T14:32:19</td><td>1200360101</td><td>0.0</td><td>0.0</td><td>52</td><td>VALIDATED</td><td>2018-10-21T16:58:29</td><td>2018-10-08T00:00:00</td><td>l0-master_20181010</td><td>4</td><td>xti20180711</td><td>Hea_24Apr2018_V6.24_NICER_2018-10-07_V005</td><td>1200</td><td>Target of Opportunities sponsored by the Principal Investigator</td><td>DIR</td><td>9</td><td>GENDREAU</td><td>KEITH C.</td><td>1</td><td>DDT_TOO</td><td>Director Target of Operations</td><td>missing</td><td>true</td><td>true</td><td>false</td></tr><tr><th>2</th><td>1A_0535+262</td><td>84.7281</td><td>26.31</td><td>181.45</td><td>-2.64605</td><td>2018-09-27T22:30:00</td><td>2018-09-27T22:47:00</td><td>1200360104</td><td>901.0</td><td>0.0</td><td>52</td><td>VALIDATED</td><td>2018-10-08T00:17:17</td><td>2018-10-11T00:00:00</td><td>l0-master_20180712</td><td>2</td><td>xti20180711</td><td>Hea_24Apr2018_V6.24_NICER_2018-07-12_V004a</td><td>1200</td><td>Target of Opportunities sponsored by the Principal Investigator</td><td>DIR</td><td>9</td><td>GENDREAU</td><td>KEITH C.</td><td>1</td><td>DDT_TOO</td><td>Director Target of Operations</td><td>missing</td><td>true</td><td>false</td><td>false</td></tr><tr><th>3</th><td>1A_0535+262</td><td>84.7269</td><td>26.3154</td><td>181.445</td><td>-2.64411</td><td>2018-09-26T01:27:59</td><td>2018-09-26T06:29:46</td><td>1200360103</td><td>3830.0</td><td>0.0</td><td>52</td><td>VALIDATED</td><td>2018-10-08T00:13:27</td><td>2018-10-10T00:00:00</td><td>l0-master_20180712</td><td>2</td><td>xti20180711</td><td>Hea_24Apr2018_V6.24_NICER_2018-07-12_V004a</td><td>1200</td><td>Target of Opportunities sponsored by the Principal Investigator</td><td>DIR</td><td>9</td><td>GENDREAU</td><td>KEITH C.</td><td>1</td><td>DDT_TOO</td><td>Director Target of Operations</td><td>missing</td><td>true</td><td>false</td><td>false</td></tr><tr><th>4</th><td>1A_0535+262</td><td>84.7269</td><td>26.3156</td><td>181.445</td><td>-2.64399</td><td>2018-09-30T01:12:19</td><td>2018-09-30T01:38:03</td><td>1200360105</td><td>1429.0</td><td>0.0</td><td>52</td><td>VALIDATED</td><td>2018-10-08T00:19:17</td><td>2018-10-14T00:00:00</td><td>l0-master_20180712</td><td>2</td><td>xti20180711</td><td>Hea_24Apr2018_V6.24_NICER_2018-07-12_V004a</td><td>1200</td><td>Target of Opportunities sponsored by the Principal Investigator</td><td>DIR</td><td>9</td><td>GENDREAU</td><td>KEITH C.</td><td>1</td><td>DDT_TOO</td><td>Director Target of Operations</td><td>missing</td><td>true</td><td>false</td><td>false</td></tr><tr><th>5</th><td>1A_0535+262</td><td>84.7271</td><td>26.3156</td><td>181.445</td><td>-2.64387</td><td>2018-09-25T06:46:44</td><td>2018-09-25T07:26:25</td><td>1200360102</td><td>1321.0</td><td>0.0</td><td>52</td><td>VALIDATED</td><td>2018-10-21T18:40:02</td><td>2018-10-09T00:00:00</td><td>l0-master_20181010</td><td>3</td><td>xti20180711</td><td>Hea_24Apr2018_V6.24_NICER_2018-10-07_V005</td><td>1200</td><td>Target of Opportunities sponsored by the Principal Investigator</td><td>DIR</td><td>9</td><td>GENDREAU</td><td>KEITH C.</td><td>1</td><td>DDT_TOO</td><td>Director Target of Operations</td><td>missing</td><td>true</td><td>false</td><td>false</td></tr><tr><th>6</th><td>1E_0102.2-7219</td><td>15.9898</td><td>-72.064</td><td>301.568</td><td>-45.0311</td><td>2017-06-19T19:01:25</td><td>2017-06-19T19:13:02</td><td>0010010101</td><td>3.0</td><td>0.0</td><td>52</td><td>PROCESSED</td><td>2018-03-02T21:41:19</td><td>2099-12-31T00:00:00</td><td>l0-master_20180226</td><td>3</td><td>xti20180226</td><td>Hea_10Oct2017_V6.22.1_NICER_2018-03-01_V003</td><td>0010</td><td>Observations of general NICER calibration</td><td>CAL</td><td>1</td><td>GENDREAU</td><td>KEITH C.</td><td>0</td><td>CAL</td><td>CALIBRATION</td><td>missing</td><td>false</td><td>false</td><td>false</td></tr><tr><th>7</th><td>1E_0102.2-7219</td><td>16.016</td><td>-72.0626</td><td>301.557</td><td>-45.032</td><td>2017-06-22T00:42:42</td><td>2017-06-22T08:39:55</td><td>0010010104</td><td>3.0</td><td>0.0</td><td>52</td><td>PROCESSED</td><td>2018-03-02T21:50:08</td><td>2099-12-31T00:00:00</td><td>l0-master_20180226</td><td>3</td><td>xti20180226</td><td>Hea_10Oct2017_V6.22.1_NICER_2018-03-01_V003</td><td>0010</td><td>Observations of general NICER calibration</td><td>CAL</td><td>1</td><td>GENDREAU</td><td>KEITH C.</td><td>0</td><td>CAL</td><td>CALIBRATION</td><td>missing</td><td>false</td><td>false</td><td>false</td></tr><tr><th>8</th><td>1E_0102.2-7219</td><td>16.0194</td><td>-72.0617</td><td>301.555</td><td>-45.0328</td><td>2017-06-21T01:33:40</td><td>2017-06-21T23:44:42</td><td>0010010103</td><td>11.0</td><td>0.0</td><td>52</td><td>PROCESSED</td><td>2018-03-02T21:44:26</td><td>2099-12-31T00:00:00</td><td>l0-master_20180226</td><td>3</td><td>xti20180226</td><td>Hea_10Oct2017_V6.22.1_NICER_2018-03-01_V003</td><td>0010</td><td>Observations of general NICER calibration</td><td>CAL</td><td>1</td><td>GENDREAU</td><td>KEITH C.</td><td>0</td><td>CAL</td><td>CALIBRATION</td><td>missing</td><td>false</td><td>false</td><td>false</td></tr><tr><th>9</th><td>1E_0102.2-7219</td><td>16.0212</td><td>-72.0609</td><td>301.554</td><td>-45.0335</td><td>2017-06-20T02:43:03</td><td>2017-06-20T19:57:38</td><td>0010010102</td><td>6.0</td><td>0.0</td><td>52</td><td>PROCESSED</td><td>2018-03-02T21:42:35</td><td>2099-12-31T00:00:00</td><td>l0-master_20180226</td><td>3</td><td>xti20180226</td><td>Hea_10Oct2017_V6.22.1_NICER_2018-03-01_V003</td><td>0010</td><td>Observations of general NICER calibration</td><td>CAL</td><td>1</td><td>GENDREAU</td><td>KEITH C.</td><td>0</td><td>CAL</td><td>CALIBRATION</td><td>missing</td><td>false</td><td>false</td><td>false</td></tr><tr><th>10</th><td>1E_0102.2-7219</td><td>16.008</td><td>-72.0403</td><td>301.558</td><td>-45.0544</td><td>2018-05-15T16:55:40</td><td>2018-05-15T17:01:13</td><td>1010010194</td><td>125.0</td><td>60000.0</td><td>52</td><td>VALIDATED</td><td>2018-05-22T06:35:37</td><td>2018-05-29T00:00:00</td><td>l0-master_20180517</td><td>2</td><td>xti20180517</td><td>Hea_24Apr2018_V6.24_NICER_2018-04-13_V004</td><td>1010</td><td>Observations of general NICER calibration</td><td>CAL</td><td>1</td><td>GENDREAU</td><td>KEITH C.</td><td>1</td><td>CAL</td><td>CALIBRATION</td><td>missing</td><td>true</td><td>false</td><td>false</td></tr><tr><th>11</th><td>1E_0102.2-7219</td><td>16.0103</td><td>-72.0369</td><td>301.557</td><td>-45.0577</td><td>2017-12-16T07:15:13</td><td>2017-12-16T16:44:19</td><td>1010010131</td><td>472.0</td><td>60000.0</td><td>52</td><td>VALIDATED</td><td>2018-03-03T03:44:30</td><td>2018-03-04T00:00:00</td><td>l0-master_20180226</td><td>3</td><td>xti20180226</td><td>Hea_10Oct2017_V6.22.1_NICER_2018-03-01_V003</td><td>1010</td><td>Observations of general NICER calibration</td><td>CAL</td><td>1</td><td>GENDREAU</td><td>KEITH C.</td><td>1</td><td>CAL</td><td>CALIBRATION</td><td>missing</td><td>true</td><td>false</td><td>false</td></tr><tr><th>12</th><td>1E_0102.2-7219</td><td>16.0123</td><td>-72.0363</td><td>301.556</td><td>-45.0582</td><td>2018-02-19T10:31:20</td><td>2018-02-19T16:52:01</td><td>1010010159</td><td>992.0</td><td>60000.0</td><td>52</td><td>VALIDATED</td><td>2018-03-03T06:04:34</td><td>2018-03-05T00:00:00</td><td>l0-master_20180226</td><td>5</td><td>xti20180226</td><td>Hea_10Oct2017_V6.22.1_NICER_2018-03-01_V003</td><td>1010</td><td>Observations of general NICER calibration</td><td>CAL</td><td>1</td><td>GENDREAU</td><td>KEITH C.</td><td>1</td><td>CAL</td><td>CALIBRATION</td><td>missing</td><td>true</td><td>false</td><td>false</td></tr><tr><th>13</th><td>1E_0102.2-7219</td><td>16.0177</td><td>-72.0362</td><td>301.554</td><td>-45.0583</td><td>2018-05-11T17:07:00</td><td>2018-05-11T18:47:11</td><td>1010010193</td><td>236.0</td><td>60000.0</td><td>52</td><td>VALIDATED</td><td>2018-05-22T00:34:07</td><td>2018-05-25T00:00:00</td><td>l0-master_20180517</td><td>3</td><td>xti20180517</td><td>Hea_24Apr2018_V6.24_NICER_2018-04-13_V004</td><td>1010</td><td>Observations of general NICER calibration</td><td>CAL</td><td>1</td><td>GENDREAU</td><td>KEITH C.</td><td>1</td><td>CAL</td><td>CALIBRATION</td><td>missing</td><td>true</td><td>false</td><td>false</td></tr><tr><th>14</th><td>1E_0102.2-7219</td><td>16.0208</td><td>-72.0356</td><td>301.552</td><td>-45.0588</td><td>2018-08-08T11:13:40</td><td>2018-08-08T12:50:20</td><td>1010010213</td><td>346.0</td><td>0.0</td><td>52</td><td>VALIDATED</td><td>2018-08-12T20:28:58</td><td>2018-08-22T00:00:00</td><td>l0-master_20180712</td><td>2</td><td>xti20180711</td><td>Hea_24Apr2018_V6.24_NICER_2018-07-12_V004a</td><td>1010</td><td>Observations of general NICER calibration</td><td>CAL</td><td>1</td><td>GENDREAU</td><td>KEITH C.</td><td>1</td><td>CAL</td><td>CALIBRATION</td><td>missing</td><td>true</td><td>false</td><td>false</td></tr><tr><th>15</th><td>1E_0102.2-7219</td><td>16.0127</td><td>-72.0355</td><td>301.556</td><td>-45.059</td><td>2017-09-27T16:43:00</td><td>2017-09-27T18:42:51</td><td>1010010115</td><td>203.0</td><td>60000.0</td><td>52</td><td>VALIDATED</td><td>2018-03-03T03:03:57</td><td>2018-03-04T00:00:00</td><td>l0-master_20180226</td><td>3</td><td>xti20180226</td><td>Hea_10Oct2017_V6.22.1_NICER_2018-03-01_V003</td><td>1010</td><td>Observations of general NICER calibration</td><td>CAL</td><td>1</td><td>GENDREAU</td><td>KEITH C.</td><td>1</td><td>CAL</td><td>CALIBRATION</td><td>missing</td><td>true</td><td>false</td><td>false</td></tr><tr><th>16</th><td>1E_0102.2-7219</td><td>16.0163</td><td>-72.0354</td><td>301.554</td><td>-45.0591</td><td>2018-05-10T00:58:20</td><td>2018-05-10T02:37:22</td><td>1010010192</td><td>602.0</td><td>60000.0</td><td>52</td><td>VALIDATED</td><td>2018-05-18T20:50:15</td><td>2018-05-24T00:00:00</td><td>l0-master_20180517</td><td>2</td><td>xti20180517</td><td>Hea_24Apr2018_V6.24_NICER_2018-04-13_V004</td><td>1010</td><td>Observations of general NICER calibration</td><td>CAL</td><td>1</td><td>GENDREAU</td><td>KEITH C.</td><td>1</td><td>CAL</td><td>CALIBRATION</td><td>missing</td><td>true</td><td>false</td><td>false</td></tr><tr><th>17</th><td>1E_0102.2-7219</td><td>16.0167</td><td>-72.0353</td><td>301.554</td><td>-45.0592</td><td>2018-07-21T15:13:17</td><td>2018-07-21T18:58:20</td><td>1010010209</td><td>2299.54</td><td>0.0</td><td>52</td><td>VALIDATED</td><td>2018-07-25T14:57:39</td><td>2018-08-04T00:00:00</td><td>l0-master_20180712</td><td>3</td><td>xti20180711</td><td>Hea_24Apr2018_V6.24_NICER_2018-07-12_V004a</td><td>1010</td><td>Observations of general NICER calibration</td><td>CAL</td><td>1</td><td>GENDREAU</td><td>KEITH C.</td><td>1</td><td>CAL</td><td>CALIBRATION</td><td>missing</td><td>true</td><td>false</td><td>false</td></tr><tr><th>18</th><td>1E_0102.2-7219</td><td>15.9991</td><td>-72.035</td><td>301.562</td><td>-45.0598</td><td>2018-09-19T00:24:40</td><td>2018-09-19T21:52:42</td><td>1010010228</td><td>2434.0</td><td>0.0</td><td>52</td><td>VALIDATED</td><td>2018-10-14T14:19:06</td><td>2018-10-03T00:00:00</td><td>l0-master_20181010</td><td>4</td><td>xti20180711</td><td>Hea_24Apr2018_V6.24_NICER_2018-10-07_V005</td><td>1010</td><td>Observations of general NICER calibration</td><td>CAL</td><td>1</td><td>GENDREAU</td><td>KEITH C.</td><td>1</td><td>CAL</td><td>CALIBRATION</td><td>missing</td><td>true</td><td>false</td><td>false</td></tr><tr><th>19</th><td>1E_0102.2-7219</td><td>16.0188</td><td>-72.0349</td><td>301.553</td><td>-45.0595</td><td>2018-07-17T09:31:20</td><td>2018-07-17T09:38:35</td><td>1010010207</td><td>0.0</td><td>0.0</td><td>52</td><td>VALIDATED</td><td>2018-07-23T15:20:13</td><td>2018-07-31T00:00:00</td><td>l0-master_20180712</td><td>3</td><td>xti20180711</td><td>Hea_24Apr2018_V6.24_NICER_2018-07-12_V004a</td><td>1010</td><td>Observations of general NICER calibration</td><td>CAL</td><td>1</td><td>GENDREAU</td><td>KEITH C.</td><td>1</td><td>CAL</td><td>CALIBRATION</td><td>missing</td><td>true</td><td>false</td><td>false</td></tr><tr><th>20</th><td>1E_0102.2-7219</td><td>16.0152</td><td>-72.0343</td><td>301.554</td><td>-45.0602</td><td>2018-12-10T07:33:00</td><td>2018-12-10T07:51:17</td><td>1010010250</td><td>853.0</td><td>0.0</td><td>52</td><td>VALIDATED</td><td>2018-12-14T17:44:12</td><td>2018-12-24T00:00:00</td><td>l0-master_20181010</td><td>2</td><td>xti20181105</td><td>Hea_22Oct2018_V6.25_NICER_2018-11-19_V005a</td><td>1010</td><td>Observations of general NICER calibration</td><td>CAL</td><td>1</td><td>GENDREAU</td><td>KEITH C.</td><td>1</td><td>CAL</td><td>CALIBRATION</td><td>missing</td><td>true</td><td>false</td><td>false</td></tr><tr><th>21</th><td>1E_0102.2-7219</td><td>16.0035</td><td>-72.0342</td><td>301.56</td><td>-45.0605</td><td>2018-03-15T11:54:12</td><td>2018-03-15T23:05:11</td><td>1010010168</td><td>815.0</td><td>60000.0</td><td>52</td><td>VALIDATED</td><td>2018-03-19T15:03:39</td><td>2018-03-29T00:00:00</td><td>l0-master_20180226</td><td>2</td><td>xti20180226</td><td>Hea_10Oct2017_V6.22.1_NICER_2018-03-01_V003</td><td>1010</td><td>Observations of general NICER calibration</td><td>CAL</td><td>1</td><td>GENDREAU</td><td>KEITH C.</td><td>1</td><td>CAL</td><td>CALIBRATION</td><td>missing</td><td>true</td><td>false</td><td>false</td></tr><tr><th>22</th><td>1E_0102.2-7219</td><td>16.0117</td><td>-72.0339</td><td>301.556</td><td>-45.0607</td><td>2018-07-16T08:37:45</td><td>2018-07-16T13:33:56</td><td>1010010206</td><td>1033.36</td><td>0.0</td><td>52</td><td>VALIDATED</td><td>2018-07-20T16:02:52</td><td>2018-07-30T00:00:00</td><td>l0-master_20180712</td><td>3</td><td>xti20180711</td><td>Hea_24Apr2018_V6.24_NICER_2018-07-12_V004a</td><td>1010</td><td>Observations of general NICER calibration</td><td>CAL</td><td>1</td><td>GENDREAU</td><td>KEITH C.</td><td>1</td><td>CAL</td><td>CALIBRATION</td><td>missing</td><td>true</td><td>false</td><td>false</td></tr><tr><th>23</th><td>1E_0102.2-7219</td><td>15.9952</td><td>-72.0334</td><td>301.563</td><td>-45.0615</td><td>2018-11-20T20:05:39</td><td>2018-11-20T20:16:31</td><td>1010010241</td><td>354.0</td><td>0.0</td><td>52</td><td>VALIDATED</td><td>2018-11-26T21:31:19</td><td>2018-12-04T00:00:00</td><td>l0-master_20181010</td><td>2</td><td>xti20181105</td><td>Hea_22Oct2018_V6.25_NICER_2018-11-19_V005a</td><td>1010</td><td>Observations of general NICER calibration</td><td>CAL</td><td>1</td><td>GENDREAU</td><td>KEITH C.</td><td>1</td><td>CAL</td><td>CALIBRATION</td><td>missing</td><td>true</td><td>false</td><td>false</td></tr><tr><th>24</th><td>1E_0102.2-7219</td><td>16.0132</td><td>-72.0333</td><td>301.555</td><td>-45.0612</td><td>2018-05-09T20:19:40</td><td>2018-05-09T23:38:00</td><td>1010010191</td><td>620.0</td><td>60000.0</td><td>52</td><td>VALIDATED</td><td>2018-05-15T02:21:35</td><td>2018-05-23T00:00:00</td><td>l0-master_20180413</td><td>2</td><td>xti20180417</td><td>Hea_06Mar2018_V6.23_NICER_2018-04-13_V004</td><td>1010</td><td>Observations of general NICER calibration</td><td>CAL</td><td>1</td><td>GENDREAU</td><td>KEITH C.</td><td>1</td><td>CAL</td><td>CALIBRATION</td><td>missing</td><td>true</td><td>false</td><td>false</td></tr><tr><th>25</th><td>1E_0102.2-7219</td><td>16.0119</td><td>-72.0333</td><td>301.556</td><td>-45.0612</td><td>2018-03-23T03:43:20</td><td>2018-03-23T17:45:19</td><td>1010010176</td><td>281.0</td><td>60000.0</td><td>52</td><td>VALIDATED</td><td>2018-03-27T20:23:05</td><td>2018-04-06T00:00:00</td><td>l0-master_20180226</td><td>2</td><td>xti20180226</td><td>Hea_10Oct2017_V6.22.1_NICER_2018-03-01_V003</td><td>1010</td><td>Observations of general NICER calibration</td><td>CAL</td><td>1</td><td>GENDREAU</td><td>KEITH C.</td><td>1</td><td>CAL</td><td>CALIBRATION</td><td>missing</td><td>true</td><td>false</td><td>false</td></tr><tr><th>26</th><td>1E_0102.2-7219</td><td>16.0143</td><td>-72.0332</td><td>301.555</td><td>-45.0613</td><td>2017-07-17T23:56:31</td><td>2017-07-18T21:46:50</td><td>1010010102</td><td>4223.03</td><td>60000.0</td><td>52</td><td>VALIDATED</td><td>2018-03-03T02:28:06</td><td>2018-03-04T00:00:00</td><td>l0-master_20180226</td><td>2</td><td>xti20180226</td><td>Hea_10Oct2017_V6.22.1_NICER_2018-03-01_V003</td><td>1010</td><td>Observations of general NICER calibration</td><td>CAL</td><td>1</td><td>GENDREAU</td><td>KEITH C.</td><td>1</td><td>CAL</td><td>CALIBRATION</td><td>missing</td><td>true</td><td>false</td><td>false</td></tr><tr><th>27</th><td>1E_0102.2-7219</td><td>16.0106</td><td>-72.0332</td><td>301.556</td><td>-45.0614</td><td>2017-07-19T03:41:45</td><td>2017-07-19T19:29:00</td><td>1010010103</td><td>866.0</td><td>60000.0</td><td>52</td><td>VALIDATED</td><td>2018-03-03T02:33:10</td><td>2018-03-04T00:00:00</td><td>l0-master_20180226</td><td>2</td><td>xti20180226</td><td>Hea_10Oct2017_V6.22.1_NICER_2018-03-01_V003</td><td>1010</td><td>Observations of general NICER calibration</td><td>CAL</td><td>1</td><td>GENDREAU</td><td>KEITH C.</td><td>1</td><td>CAL</td><td>CALIBRATION</td><td>missing</td><td>true</td><td>false</td><td>false</td></tr><tr><th>28</th><td>1E_0102.2-7219</td><td>16.0103</td><td>-72.033</td><td>301.556</td><td>-45.0616</td><td>2017-12-18T15:00:10</td><td>2017-12-18T15:08:00</td><td>1010010132</td><td>141.0</td><td>60000.0</td><td>0</td><td>VALIDATED</td><td>2018-03-03T03:46:08</td><td>2018-03-04T00:00:00</td><td>l0-master_20180226</td><td>3</td><td>xti20180226</td><td>Hea_10Oct2017_V6.22.1_NICER_2018-03-01_V003</td><td>1010</td><td>Observations of general NICER calibration</td><td>CAL</td><td>1</td><td>GENDREAU</td><td>KEITH C.</td><td>1</td><td>CAL</td><td>CALIBRATION</td><td>missing</td><td>true</td><td>false</td><td>false</td></tr><tr><th>29</th><td>1E_0102.2-7219</td><td>16.0098</td><td>-72.0329</td><td>301.557</td><td>-45.0617</td><td>2018-07-15T21:53:17</td><td>2018-07-15T23:53:38</td><td>1010010205</td><td>2481.0</td><td>0.0</td><td>52</td><td>VALIDATED</td><td>2018-07-19T16:16:54</td><td>2018-07-29T00:00:00</td><td>l0-master_20180712</td><td>3</td><td>xti20180711</td><td>Hea_24Apr2018_V6.24_NICER_2018-07-12_V004a</td><td>1010</td><td>Observations of general NICER calibration</td><td>CAL</td><td>1</td><td>GENDREAU</td><td>KEITH C.</td><td>1</td><td>CAL</td><td>CALIBRATION</td><td>missing</td><td>true</td><td>false</td><td>false</td></tr><tr><th>30</th><td>1E_0102.2-7219</td><td>16.0057</td><td>-72.0327</td><td>301.558</td><td>-45.062</td><td>2018-05-20T19:00:00</td><td>2018-05-20T23:27:17</td><td>1010010196</td><td>806.0</td><td>60000.0</td><td>52</td><td>VALIDATED</td><td>2018-05-25T02:37:40</td><td>2018-06-03T00:00:00</td><td>l0-master_20180517</td><td>2</td><td>xti20180517</td><td>Hea_24Apr2018_V6.24_NICER_2018-04-13_V004</td><td>1010</td><td>Observations of general NICER calibration</td><td>CAL</td><td>1</td><td>GENDREAU</td><td>KEITH C.</td><td>1</td><td>CAL</td><td>CALIBRATION</td><td>missing</td><td>true</td><td>false</td><td>false</td></tr><tr><th>&vellip;</th><td>&vellip;</td><td>&vellip;</td><td>&vellip;</td><td>&vellip;</td><td>&vellip;</td><td>&vellip;</td><td>&vellip;</td><td>&vellip;</td><td>&vellip;</td><td>&vellip;</td><td>&vellip;</td><td>&vellip;</td><td>&vellip;</td><td>&vellip;</td><td>&vellip;</td><td>&vellip;</td><td>&vellip;</td><td>&vellip;</td><td>&vellip;</td><td>&vellip;</td><td>&vellip;</td><td>&vellip;</td><td>&vellip;</td><td>&vellip;</td><td>&vellip;</td><td>&vellip;</td><td>&vellip;</td><td>&vellip;</td><td>&vellip;</td><td>&vellip;</td><td>&vellip;</td></tr></tbody></table>"
      ],
      "text/latex": [
       "\\begin{tabular}{r|ccccccccccccccccccccccccccccccc}\n",
       "\t& name & ra & dec & lii & bii & time & end\\_time & obsid & exposure & time\\_awarded & num\\_fpm & processing\\_status & processing\\_date & public\\_date & processing\\_version & num\\_processed & caldb\\_version & software\\_version & prnb & abstract & subject\\_category & category\\_code & pi\\_lname & pi\\_fname & cycle & obs\\_type & title & remarks & publicity & logged & downloaded\\\\\n",
       "\t\\hline\n",
       "\t1 & 1A\\_0535+262 & 84.3791 & 26.1659 & 181.405 & -2.98776 & 2018-09-24T14:04:52 & 2018-09-24T14:32:19 & 1200360101 & 0.0 & 0.0 & 52 & VALIDATED & 2018-10-21T16:58:29 & 2018-10-08T00:00:00 & l0-master\\_20181010 & 4 & xti20180711 & Hea\\_24Apr2018\\_V6.24\\_NICER\\_2018-10-07\\_V005 & 1200 & Target of Opportunities sponsored by the Principal Investigator & DIR & 9 & GENDREAU & KEITH C. & 1 & DDT\\_TOO & Director Target of Operations & missing & true & true & false \\\\\n",
       "\t2 & 1A\\_0535+262 & 84.7281 & 26.31 & 181.45 & -2.64605 & 2018-09-27T22:30:00 & 2018-09-27T22:47:00 & 1200360104 & 901.0 & 0.0 & 52 & VALIDATED & 2018-10-08T00:17:17 & 2018-10-11T00:00:00 & l0-master\\_20180712 & 2 & xti20180711 & Hea\\_24Apr2018\\_V6.24\\_NICER\\_2018-07-12\\_V004a & 1200 & Target of Opportunities sponsored by the Principal Investigator & DIR & 9 & GENDREAU & KEITH C. & 1 & DDT\\_TOO & Director Target of Operations & missing & true & false & false \\\\\n",
       "\t3 & 1A\\_0535+262 & 84.7269 & 26.3154 & 181.445 & -2.64411 & 2018-09-26T01:27:59 & 2018-09-26T06:29:46 & 1200360103 & 3830.0 & 0.0 & 52 & VALIDATED & 2018-10-08T00:13:27 & 2018-10-10T00:00:00 & l0-master\\_20180712 & 2 & xti20180711 & Hea\\_24Apr2018\\_V6.24\\_NICER\\_2018-07-12\\_V004a & 1200 & Target of Opportunities sponsored by the Principal Investigator & DIR & 9 & GENDREAU & KEITH C. & 1 & DDT\\_TOO & Director Target of Operations & missing & true & false & false \\\\\n",
       "\t4 & 1A\\_0535+262 & 84.7269 & 26.3156 & 181.445 & -2.64399 & 2018-09-30T01:12:19 & 2018-09-30T01:38:03 & 1200360105 & 1429.0 & 0.0 & 52 & VALIDATED & 2018-10-08T00:19:17 & 2018-10-14T00:00:00 & l0-master\\_20180712 & 2 & xti20180711 & Hea\\_24Apr2018\\_V6.24\\_NICER\\_2018-07-12\\_V004a & 1200 & Target of Opportunities sponsored by the Principal Investigator & DIR & 9 & GENDREAU & KEITH C. & 1 & DDT\\_TOO & Director Target of Operations & missing & true & false & false \\\\\n",
       "\t5 & 1A\\_0535+262 & 84.7271 & 26.3156 & 181.445 & -2.64387 & 2018-09-25T06:46:44 & 2018-09-25T07:26:25 & 1200360102 & 1321.0 & 0.0 & 52 & VALIDATED & 2018-10-21T18:40:02 & 2018-10-09T00:00:00 & l0-master\\_20181010 & 3 & xti20180711 & Hea\\_24Apr2018\\_V6.24\\_NICER\\_2018-10-07\\_V005 & 1200 & Target of Opportunities sponsored by the Principal Investigator & DIR & 9 & GENDREAU & KEITH C. & 1 & DDT\\_TOO & Director Target of Operations & missing & true & false & false \\\\\n",
       "\t6 & 1E\\_0102.2-7219 & 15.9898 & -72.064 & 301.568 & -45.0311 & 2017-06-19T19:01:25 & 2017-06-19T19:13:02 & 0010010101 & 3.0 & 0.0 & 52 & PROCESSED & 2018-03-02T21:41:19 & 2099-12-31T00:00:00 & l0-master\\_20180226 & 3 & xti20180226 & Hea\\_10Oct2017\\_V6.22.1\\_NICER\\_2018-03-01\\_V003 & 0010 & Observations of general NICER calibration & CAL & 1 & GENDREAU & KEITH C. & 0 & CAL & CALIBRATION & missing & false & false & false \\\\\n",
       "\t7 & 1E\\_0102.2-7219 & 16.016 & -72.0626 & 301.557 & -45.032 & 2017-06-22T00:42:42 & 2017-06-22T08:39:55 & 0010010104 & 3.0 & 0.0 & 52 & PROCESSED & 2018-03-02T21:50:08 & 2099-12-31T00:00:00 & l0-master\\_20180226 & 3 & xti20180226 & Hea\\_10Oct2017\\_V6.22.1\\_NICER\\_2018-03-01\\_V003 & 0010 & Observations of general NICER calibration & CAL & 1 & GENDREAU & KEITH C. & 0 & CAL & CALIBRATION & missing & false & false & false \\\\\n",
       "\t8 & 1E\\_0102.2-7219 & 16.0194 & -72.0617 & 301.555 & -45.0328 & 2017-06-21T01:33:40 & 2017-06-21T23:44:42 & 0010010103 & 11.0 & 0.0 & 52 & PROCESSED & 2018-03-02T21:44:26 & 2099-12-31T00:00:00 & l0-master\\_20180226 & 3 & xti20180226 & Hea\\_10Oct2017\\_V6.22.1\\_NICER\\_2018-03-01\\_V003 & 0010 & Observations of general NICER calibration & CAL & 1 & GENDREAU & KEITH C. & 0 & CAL & CALIBRATION & missing & false & false & false \\\\\n",
       "\t9 & 1E\\_0102.2-7219 & 16.0212 & -72.0609 & 301.554 & -45.0335 & 2017-06-20T02:43:03 & 2017-06-20T19:57:38 & 0010010102 & 6.0 & 0.0 & 52 & PROCESSED & 2018-03-02T21:42:35 & 2099-12-31T00:00:00 & l0-master\\_20180226 & 3 & xti20180226 & Hea\\_10Oct2017\\_V6.22.1\\_NICER\\_2018-03-01\\_V003 & 0010 & Observations of general NICER calibration & CAL & 1 & GENDREAU & KEITH C. & 0 & CAL & CALIBRATION & missing & false & false & false \\\\\n",
       "\t10 & 1E\\_0102.2-7219 & 16.008 & -72.0403 & 301.558 & -45.0544 & 2018-05-15T16:55:40 & 2018-05-15T17:01:13 & 1010010194 & 125.0 & 60000.0 & 52 & VALIDATED & 2018-05-22T06:35:37 & 2018-05-29T00:00:00 & l0-master\\_20180517 & 2 & xti20180517 & Hea\\_24Apr2018\\_V6.24\\_NICER\\_2018-04-13\\_V004 & 1010 & Observations of general NICER calibration & CAL & 1 & GENDREAU & KEITH C. & 1 & CAL & CALIBRATION & missing & true & false & false \\\\\n",
       "\t11 & 1E\\_0102.2-7219 & 16.0103 & -72.0369 & 301.557 & -45.0577 & 2017-12-16T07:15:13 & 2017-12-16T16:44:19 & 1010010131 & 472.0 & 60000.0 & 52 & VALIDATED & 2018-03-03T03:44:30 & 2018-03-04T00:00:00 & l0-master\\_20180226 & 3 & xti20180226 & Hea\\_10Oct2017\\_V6.22.1\\_NICER\\_2018-03-01\\_V003 & 1010 & Observations of general NICER calibration & CAL & 1 & GENDREAU & KEITH C. & 1 & CAL & CALIBRATION & missing & true & false & false \\\\\n",
       "\t12 & 1E\\_0102.2-7219 & 16.0123 & -72.0363 & 301.556 & -45.0582 & 2018-02-19T10:31:20 & 2018-02-19T16:52:01 & 1010010159 & 992.0 & 60000.0 & 52 & VALIDATED & 2018-03-03T06:04:34 & 2018-03-05T00:00:00 & l0-master\\_20180226 & 5 & xti20180226 & Hea\\_10Oct2017\\_V6.22.1\\_NICER\\_2018-03-01\\_V003 & 1010 & Observations of general NICER calibration & CAL & 1 & GENDREAU & KEITH C. & 1 & CAL & CALIBRATION & missing & true & false & false \\\\\n",
       "\t13 & 1E\\_0102.2-7219 & 16.0177 & -72.0362 & 301.554 & -45.0583 & 2018-05-11T17:07:00 & 2018-05-11T18:47:11 & 1010010193 & 236.0 & 60000.0 & 52 & VALIDATED & 2018-05-22T00:34:07 & 2018-05-25T00:00:00 & l0-master\\_20180517 & 3 & xti20180517 & Hea\\_24Apr2018\\_V6.24\\_NICER\\_2018-04-13\\_V004 & 1010 & Observations of general NICER calibration & CAL & 1 & GENDREAU & KEITH C. & 1 & CAL & CALIBRATION & missing & true & false & false \\\\\n",
       "\t14 & 1E\\_0102.2-7219 & 16.0208 & -72.0356 & 301.552 & -45.0588 & 2018-08-08T11:13:40 & 2018-08-08T12:50:20 & 1010010213 & 346.0 & 0.0 & 52 & VALIDATED & 2018-08-12T20:28:58 & 2018-08-22T00:00:00 & l0-master\\_20180712 & 2 & xti20180711 & Hea\\_24Apr2018\\_V6.24\\_NICER\\_2018-07-12\\_V004a & 1010 & Observations of general NICER calibration & CAL & 1 & GENDREAU & KEITH C. & 1 & CAL & CALIBRATION & missing & true & false & false \\\\\n",
       "\t15 & 1E\\_0102.2-7219 & 16.0127 & -72.0355 & 301.556 & -45.059 & 2017-09-27T16:43:00 & 2017-09-27T18:42:51 & 1010010115 & 203.0 & 60000.0 & 52 & VALIDATED & 2018-03-03T03:03:57 & 2018-03-04T00:00:00 & l0-master\\_20180226 & 3 & xti20180226 & Hea\\_10Oct2017\\_V6.22.1\\_NICER\\_2018-03-01\\_V003 & 1010 & Observations of general NICER calibration & CAL & 1 & GENDREAU & KEITH C. & 1 & CAL & CALIBRATION & missing & true & false & false \\\\\n",
       "\t16 & 1E\\_0102.2-7219 & 16.0163 & -72.0354 & 301.554 & -45.0591 & 2018-05-10T00:58:20 & 2018-05-10T02:37:22 & 1010010192 & 602.0 & 60000.0 & 52 & VALIDATED & 2018-05-18T20:50:15 & 2018-05-24T00:00:00 & l0-master\\_20180517 & 2 & xti20180517 & Hea\\_24Apr2018\\_V6.24\\_NICER\\_2018-04-13\\_V004 & 1010 & Observations of general NICER calibration & CAL & 1 & GENDREAU & KEITH C. & 1 & CAL & CALIBRATION & missing & true & false & false \\\\\n",
       "\t17 & 1E\\_0102.2-7219 & 16.0167 & -72.0353 & 301.554 & -45.0592 & 2018-07-21T15:13:17 & 2018-07-21T18:58:20 & 1010010209 & 2299.54 & 0.0 & 52 & VALIDATED & 2018-07-25T14:57:39 & 2018-08-04T00:00:00 & l0-master\\_20180712 & 3 & xti20180711 & Hea\\_24Apr2018\\_V6.24\\_NICER\\_2018-07-12\\_V004a & 1010 & Observations of general NICER calibration & CAL & 1 & GENDREAU & KEITH C. & 1 & CAL & CALIBRATION & missing & true & false & false \\\\\n",
       "\t18 & 1E\\_0102.2-7219 & 15.9991 & -72.035 & 301.562 & -45.0598 & 2018-09-19T00:24:40 & 2018-09-19T21:52:42 & 1010010228 & 2434.0 & 0.0 & 52 & VALIDATED & 2018-10-14T14:19:06 & 2018-10-03T00:00:00 & l0-master\\_20181010 & 4 & xti20180711 & Hea\\_24Apr2018\\_V6.24\\_NICER\\_2018-10-07\\_V005 & 1010 & Observations of general NICER calibration & CAL & 1 & GENDREAU & KEITH C. & 1 & CAL & CALIBRATION & missing & true & false & false \\\\\n",
       "\t19 & 1E\\_0102.2-7219 & 16.0188 & -72.0349 & 301.553 & -45.0595 & 2018-07-17T09:31:20 & 2018-07-17T09:38:35 & 1010010207 & 0.0 & 0.0 & 52 & VALIDATED & 2018-07-23T15:20:13 & 2018-07-31T00:00:00 & l0-master\\_20180712 & 3 & xti20180711 & Hea\\_24Apr2018\\_V6.24\\_NICER\\_2018-07-12\\_V004a & 1010 & Observations of general NICER calibration & CAL & 1 & GENDREAU & KEITH C. & 1 & CAL & CALIBRATION & missing & true & false & false \\\\\n",
       "\t20 & 1E\\_0102.2-7219 & 16.0152 & -72.0343 & 301.554 & -45.0602 & 2018-12-10T07:33:00 & 2018-12-10T07:51:17 & 1010010250 & 853.0 & 0.0 & 52 & VALIDATED & 2018-12-14T17:44:12 & 2018-12-24T00:00:00 & l0-master\\_20181010 & 2 & xti20181105 & Hea\\_22Oct2018\\_V6.25\\_NICER\\_2018-11-19\\_V005a & 1010 & Observations of general NICER calibration & CAL & 1 & GENDREAU & KEITH C. & 1 & CAL & CALIBRATION & missing & true & false & false \\\\\n",
       "\t21 & 1E\\_0102.2-7219 & 16.0035 & -72.0342 & 301.56 & -45.0605 & 2018-03-15T11:54:12 & 2018-03-15T23:05:11 & 1010010168 & 815.0 & 60000.0 & 52 & VALIDATED & 2018-03-19T15:03:39 & 2018-03-29T00:00:00 & l0-master\\_20180226 & 2 & xti20180226 & Hea\\_10Oct2017\\_V6.22.1\\_NICER\\_2018-03-01\\_V003 & 1010 & Observations of general NICER calibration & CAL & 1 & GENDREAU & KEITH C. & 1 & CAL & CALIBRATION & missing & true & false & false \\\\\n",
       "\t22 & 1E\\_0102.2-7219 & 16.0117 & -72.0339 & 301.556 & -45.0607 & 2018-07-16T08:37:45 & 2018-07-16T13:33:56 & 1010010206 & 1033.36 & 0.0 & 52 & VALIDATED & 2018-07-20T16:02:52 & 2018-07-30T00:00:00 & l0-master\\_20180712 & 3 & xti20180711 & Hea\\_24Apr2018\\_V6.24\\_NICER\\_2018-07-12\\_V004a & 1010 & Observations of general NICER calibration & CAL & 1 & GENDREAU & KEITH C. & 1 & CAL & CALIBRATION & missing & true & false & false \\\\\n",
       "\t23 & 1E\\_0102.2-7219 & 15.9952 & -72.0334 & 301.563 & -45.0615 & 2018-11-20T20:05:39 & 2018-11-20T20:16:31 & 1010010241 & 354.0 & 0.0 & 52 & VALIDATED & 2018-11-26T21:31:19 & 2018-12-04T00:00:00 & l0-master\\_20181010 & 2 & xti20181105 & Hea\\_22Oct2018\\_V6.25\\_NICER\\_2018-11-19\\_V005a & 1010 & Observations of general NICER calibration & CAL & 1 & GENDREAU & KEITH C. & 1 & CAL & CALIBRATION & missing & true & false & false \\\\\n",
       "\t24 & 1E\\_0102.2-7219 & 16.0132 & -72.0333 & 301.555 & -45.0612 & 2018-05-09T20:19:40 & 2018-05-09T23:38:00 & 1010010191 & 620.0 & 60000.0 & 52 & VALIDATED & 2018-05-15T02:21:35 & 2018-05-23T00:00:00 & l0-master\\_20180413 & 2 & xti20180417 & Hea\\_06Mar2018\\_V6.23\\_NICER\\_2018-04-13\\_V004 & 1010 & Observations of general NICER calibration & CAL & 1 & GENDREAU & KEITH C. & 1 & CAL & CALIBRATION & missing & true & false & false \\\\\n",
       "\t25 & 1E\\_0102.2-7219 & 16.0119 & -72.0333 & 301.556 & -45.0612 & 2018-03-23T03:43:20 & 2018-03-23T17:45:19 & 1010010176 & 281.0 & 60000.0 & 52 & VALIDATED & 2018-03-27T20:23:05 & 2018-04-06T00:00:00 & l0-master\\_20180226 & 2 & xti20180226 & Hea\\_10Oct2017\\_V6.22.1\\_NICER\\_2018-03-01\\_V003 & 1010 & Observations of general NICER calibration & CAL & 1 & GENDREAU & KEITH C. & 1 & CAL & CALIBRATION & missing & true & false & false \\\\\n",
       "\t26 & 1E\\_0102.2-7219 & 16.0143 & -72.0332 & 301.555 & -45.0613 & 2017-07-17T23:56:31 & 2017-07-18T21:46:50 & 1010010102 & 4223.03 & 60000.0 & 52 & VALIDATED & 2018-03-03T02:28:06 & 2018-03-04T00:00:00 & l0-master\\_20180226 & 2 & xti20180226 & Hea\\_10Oct2017\\_V6.22.1\\_NICER\\_2018-03-01\\_V003 & 1010 & Observations of general NICER calibration & CAL & 1 & GENDREAU & KEITH C. & 1 & CAL & CALIBRATION & missing & true & false & false \\\\\n",
       "\t27 & 1E\\_0102.2-7219 & 16.0106 & -72.0332 & 301.556 & -45.0614 & 2017-07-19T03:41:45 & 2017-07-19T19:29:00 & 1010010103 & 866.0 & 60000.0 & 52 & VALIDATED & 2018-03-03T02:33:10 & 2018-03-04T00:00:00 & l0-master\\_20180226 & 2 & xti20180226 & Hea\\_10Oct2017\\_V6.22.1\\_NICER\\_2018-03-01\\_V003 & 1010 & Observations of general NICER calibration & CAL & 1 & GENDREAU & KEITH C. & 1 & CAL & CALIBRATION & missing & true & false & false \\\\\n",
       "\t28 & 1E\\_0102.2-7219 & 16.0103 & -72.033 & 301.556 & -45.0616 & 2017-12-18T15:00:10 & 2017-12-18T15:08:00 & 1010010132 & 141.0 & 60000.0 & 0 & VALIDATED & 2018-03-03T03:46:08 & 2018-03-04T00:00:00 & l0-master\\_20180226 & 3 & xti20180226 & Hea\\_10Oct2017\\_V6.22.1\\_NICER\\_2018-03-01\\_V003 & 1010 & Observations of general NICER calibration & CAL & 1 & GENDREAU & KEITH C. & 1 & CAL & CALIBRATION & missing & true & false & false \\\\\n",
       "\t29 & 1E\\_0102.2-7219 & 16.0098 & -72.0329 & 301.557 & -45.0617 & 2018-07-15T21:53:17 & 2018-07-15T23:53:38 & 1010010205 & 2481.0 & 0.0 & 52 & VALIDATED & 2018-07-19T16:16:54 & 2018-07-29T00:00:00 & l0-master\\_20180712 & 3 & xti20180711 & Hea\\_24Apr2018\\_V6.24\\_NICER\\_2018-07-12\\_V004a & 1010 & Observations of general NICER calibration & CAL & 1 & GENDREAU & KEITH C. & 1 & CAL & CALIBRATION & missing & true & false & false \\\\\n",
       "\t30 & 1E\\_0102.2-7219 & 16.0057 & -72.0327 & 301.558 & -45.062 & 2018-05-20T19:00:00 & 2018-05-20T23:27:17 & 1010010196 & 806.0 & 60000.0 & 52 & VALIDATED & 2018-05-25T02:37:40 & 2018-06-03T00:00:00 & l0-master\\_20180517 & 2 & xti20180517 & Hea\\_24Apr2018\\_V6.24\\_NICER\\_2018-04-13\\_V004 & 1010 & Observations of general NICER calibration & CAL & 1 & GENDREAU & KEITH C. & 1 & CAL & CALIBRATION & missing & true & false & false \\\\\n",
       "\t$\\dots$ & $\\dots$ & $\\dots$ & $\\dots$ & $\\dots$ & $\\dots$ & $\\dots$ & $\\dots$ & $\\dots$ & $\\dots$ & $\\dots$ & $\\dots$ & $\\dots$ & $\\dots$ & $\\dots$ & $\\dots$ & $\\dots$ & $\\dots$ & $\\dots$ & $\\dots$ & $\\dots$ & $\\dots$ & $\\dots$ & $\\dots$ & $\\dots$ & $\\dots$ & $\\dots$ & $\\dots$ & $\\dots$ & $\\dots$ & $\\dots$ & $\\dots$ \\\\\n",
       "\\end{tabular}\n"
      ],
      "text/plain": [
       "10626×31 DataFrames.DataFrame. Omitted printing of 26 columns\n",
       "│ Row   │ name           │ ra      │ dec      │ lii     │ bii      │\n",
       "│       │ \u001b[90mString\u001b[39m         │ \u001b[90mFloat64\u001b[39m │ \u001b[90mFloat64\u001b[39m  │ \u001b[90mFloat64\u001b[39m │ \u001b[90mFloat64\u001b[39m  │\n",
       "├───────┼────────────────┼─────────┼──────────┼─────────┼──────────┤\n",
       "│ 1     │ 1A_0535+262    │ 84.3791 │ 26.1659  │ 181.405 │ -2.98776 │\n",
       "│ 2     │ 1A_0535+262    │ 84.7281 │ 26.31    │ 181.45  │ -2.64605 │\n",
       "│ 3     │ 1A_0535+262    │ 84.7269 │ 26.3154  │ 181.445 │ -2.64411 │\n",
       "│ 4     │ 1A_0535+262    │ 84.7269 │ 26.3156  │ 181.445 │ -2.64399 │\n",
       "│ 5     │ 1A_0535+262    │ 84.7271 │ 26.3156  │ 181.445 │ -2.64387 │\n",
       "│ 6     │ 1E_0102.2-7219 │ 15.9898 │ -72.064  │ 301.568 │ -45.0311 │\n",
       "│ 7     │ 1E_0102.2-7219 │ 16.016  │ -72.0626 │ 301.557 │ -45.032  │\n",
       "│ 8     │ 1E_0102.2-7219 │ 16.0194 │ -72.0617 │ 301.555 │ -45.0328 │\n",
       "│ 9     │ 1E_0102.2-7219 │ 16.0212 │ -72.0609 │ 301.554 │ -45.0335 │\n",
       "│ 10    │ 1E_0102.2-7219 │ 16.008  │ -72.0403 │ 301.558 │ -45.0544 │\n",
       "⋮\n",
       "│ 10616 │ XTE_J1946+274  │ 296.416 │ 27.3669  │ 63.2092 │ 1.39507  │\n",
       "│ 10617 │ XTE_J1946+274  │ 296.417 │ 27.3672  │ 63.2101 │ 1.39405  │\n",
       "│ 10618 │ XTE_J1946+274  │ 296.416 │ 27.3675  │ 63.2099 │ 1.39489  │\n",
       "│ 10619 │ XTE_J1946+274  │ 296.414 │ 27.3675  │ 63.2089 │ 1.39658  │\n",
       "│ 10620 │ XTE_J1946+274  │ 296.416 │ 27.3675  │ 63.2101 │ 1.39469  │\n",
       "│ 10621 │ XTE_J1946+274  │ 296.416 │ 27.3677  │ 63.2101 │ 1.39499  │\n",
       "│ 10622 │ XTE_J1946+274  │ 296.414 │ 27.3681  │ 63.2095 │ 1.39689  │\n",
       "│ 10623 │ XTE_J1946+274  │ 296.416 │ 27.3683  │ 63.2107 │ 1.39515  │\n",
       "│ 10624 │ X_Persei       │ 58.8458 │ 31.0457  │ 163.081 │ -17.1365 │\n",
       "│ 10625 │ X_Persei       │ 58.8458 │ 31.0457  │ 163.081 │ -17.1365 │\n",
       "│ 10626 │ X_Persei       │ 58.8454 │ 31.0459  │ 163.081 │ -17.1366 │"
      ]
     },
     "execution_count": 21,
     "metadata": {},
     "output_type": "execute_result"
    }
   ],
   "source": [
    "JAXTAM.master(nicer)"
   ]
  },
  {
   "cell_type": "markdown",
   "metadata": {},
   "source": [
    "Query functionality exists to allow for easy selection of observations:"
   ]
  },
  {
   "cell_type": "code",
   "execution_count": 22,
   "metadata": {},
   "outputs": [
    {
     "data": {
      "text/html": [
       "<table class=\"data-frame\"><thead><tr><th></th><th>name</th><th>ra</th><th>dec</th><th>lii</th><th>bii</th><th>time</th><th>end_time</th><th>obsid</th><th>exposure</th><th>time_awarded</th><th>num_fpm</th><th>processing_status</th><th>processing_date</th><th>public_date</th><th>processing_version</th><th>num_processed</th><th>caldb_version</th><th>software_version</th><th>prnb</th><th>abstract</th><th>subject_category</th><th>category_code</th><th>pi_lname</th><th>pi_fname</th><th>cycle</th><th>obs_type</th><th>title</th><th>remarks</th><th>publicity</th><th>logged</th><th>downloaded</th></tr><tr><th></th><th>String</th><th>Float64</th><th>Float64</th><th>Float64</th><th>Float64</th><th>Arrow…</th><th>Arrow…</th><th>String</th><th>Float64</th><th>Float64</th><th>Int64</th><th>String</th><th>Arrow…</th><th>Arrow…</th><th>String</th><th>Int64</th><th>String</th><th>String</th><th>String</th><th>String</th><th>String</th><th>Int64</th><th>String</th><th>String</th><th>Int64</th><th>String</th><th>String</th><th>String</th><th>Bool</th><th>Bool</th><th>Bool</th></tr></thead><tbody><p>5 rows × 31 columns</p><tr><th>1</th><td>1A_0535+262</td><td>84.3791</td><td>26.1659</td><td>181.405</td><td>-2.98776</td><td>2018-09-24T14:04:52</td><td>2018-09-24T14:32:19</td><td>1200360101</td><td>0.0</td><td>0.0</td><td>52</td><td>VALIDATED</td><td>2018-10-21T16:58:29</td><td>2018-10-08T00:00:00</td><td>l0-master_20181010</td><td>4</td><td>xti20180711</td><td>Hea_24Apr2018_V6.24_NICER_2018-10-07_V005</td><td>1200</td><td>Target of Opportunities sponsored by the Principal Investigator</td><td>DIR</td><td>9</td><td>GENDREAU</td><td>KEITH C.</td><td>1</td><td>DDT_TOO</td><td>Director Target of Operations</td><td>missing</td><td>true</td><td>true</td><td>false</td></tr><tr><th>2</th><td>1A_0535+262</td><td>84.7281</td><td>26.31</td><td>181.45</td><td>-2.64605</td><td>2018-09-27T22:30:00</td><td>2018-09-27T22:47:00</td><td>1200360104</td><td>901.0</td><td>0.0</td><td>52</td><td>VALIDATED</td><td>2018-10-08T00:17:17</td><td>2018-10-11T00:00:00</td><td>l0-master_20180712</td><td>2</td><td>xti20180711</td><td>Hea_24Apr2018_V6.24_NICER_2018-07-12_V004a</td><td>1200</td><td>Target of Opportunities sponsored by the Principal Investigator</td><td>DIR</td><td>9</td><td>GENDREAU</td><td>KEITH C.</td><td>1</td><td>DDT_TOO</td><td>Director Target of Operations</td><td>missing</td><td>true</td><td>false</td><td>false</td></tr><tr><th>3</th><td>1A_0535+262</td><td>84.7269</td><td>26.3154</td><td>181.445</td><td>-2.64411</td><td>2018-09-26T01:27:59</td><td>2018-09-26T06:29:46</td><td>1200360103</td><td>3830.0</td><td>0.0</td><td>52</td><td>VALIDATED</td><td>2018-10-08T00:13:27</td><td>2018-10-10T00:00:00</td><td>l0-master_20180712</td><td>2</td><td>xti20180711</td><td>Hea_24Apr2018_V6.24_NICER_2018-07-12_V004a</td><td>1200</td><td>Target of Opportunities sponsored by the Principal Investigator</td><td>DIR</td><td>9</td><td>GENDREAU</td><td>KEITH C.</td><td>1</td><td>DDT_TOO</td><td>Director Target of Operations</td><td>missing</td><td>true</td><td>false</td><td>false</td></tr><tr><th>4</th><td>1A_0535+262</td><td>84.7269</td><td>26.3156</td><td>181.445</td><td>-2.64399</td><td>2018-09-30T01:12:19</td><td>2018-09-30T01:38:03</td><td>1200360105</td><td>1429.0</td><td>0.0</td><td>52</td><td>VALIDATED</td><td>2018-10-08T00:19:17</td><td>2018-10-14T00:00:00</td><td>l0-master_20180712</td><td>2</td><td>xti20180711</td><td>Hea_24Apr2018_V6.24_NICER_2018-07-12_V004a</td><td>1200</td><td>Target of Opportunities sponsored by the Principal Investigator</td><td>DIR</td><td>9</td><td>GENDREAU</td><td>KEITH C.</td><td>1</td><td>DDT_TOO</td><td>Director Target of Operations</td><td>missing</td><td>true</td><td>false</td><td>false</td></tr><tr><th>5</th><td>1A_0535+262</td><td>84.7271</td><td>26.3156</td><td>181.445</td><td>-2.64387</td><td>2018-09-25T06:46:44</td><td>2018-09-25T07:26:25</td><td>1200360102</td><td>1321.0</td><td>0.0</td><td>52</td><td>VALIDATED</td><td>2018-10-21T18:40:02</td><td>2018-10-09T00:00:00</td><td>l0-master_20181010</td><td>3</td><td>xti20180711</td><td>Hea_24Apr2018_V6.24_NICER_2018-10-07_V005</td><td>1200</td><td>Target of Opportunities sponsored by the Principal Investigator</td><td>DIR</td><td>9</td><td>GENDREAU</td><td>KEITH C.</td><td>1</td><td>DDT_TOO</td><td>Director Target of Operations</td><td>missing</td><td>true</td><td>false</td><td>false</td></tr></tbody></table>"
      ],
      "text/latex": [
       "\\begin{tabular}{r|ccccccccccccccccccccccccccccccc}\n",
       "\t& name & ra & dec & lii & bii & time & end\\_time & obsid & exposure & time\\_awarded & num\\_fpm & processing\\_status & processing\\_date & public\\_date & processing\\_version & num\\_processed & caldb\\_version & software\\_version & prnb & abstract & subject\\_category & category\\_code & pi\\_lname & pi\\_fname & cycle & obs\\_type & title & remarks & publicity & logged & downloaded\\\\\n",
       "\t\\hline\n",
       "\t1 & 1A\\_0535+262 & 84.3791 & 26.1659 & 181.405 & -2.98776 & 2018-09-24T14:04:52 & 2018-09-24T14:32:19 & 1200360101 & 0.0 & 0.0 & 52 & VALIDATED & 2018-10-21T16:58:29 & 2018-10-08T00:00:00 & l0-master\\_20181010 & 4 & xti20180711 & Hea\\_24Apr2018\\_V6.24\\_NICER\\_2018-10-07\\_V005 & 1200 & Target of Opportunities sponsored by the Principal Investigator & DIR & 9 & GENDREAU & KEITH C. & 1 & DDT\\_TOO & Director Target of Operations & missing & true & true & false \\\\\n",
       "\t2 & 1A\\_0535+262 & 84.7281 & 26.31 & 181.45 & -2.64605 & 2018-09-27T22:30:00 & 2018-09-27T22:47:00 & 1200360104 & 901.0 & 0.0 & 52 & VALIDATED & 2018-10-08T00:17:17 & 2018-10-11T00:00:00 & l0-master\\_20180712 & 2 & xti20180711 & Hea\\_24Apr2018\\_V6.24\\_NICER\\_2018-07-12\\_V004a & 1200 & Target of Opportunities sponsored by the Principal Investigator & DIR & 9 & GENDREAU & KEITH C. & 1 & DDT\\_TOO & Director Target of Operations & missing & true & false & false \\\\\n",
       "\t3 & 1A\\_0535+262 & 84.7269 & 26.3154 & 181.445 & -2.64411 & 2018-09-26T01:27:59 & 2018-09-26T06:29:46 & 1200360103 & 3830.0 & 0.0 & 52 & VALIDATED & 2018-10-08T00:13:27 & 2018-10-10T00:00:00 & l0-master\\_20180712 & 2 & xti20180711 & Hea\\_24Apr2018\\_V6.24\\_NICER\\_2018-07-12\\_V004a & 1200 & Target of Opportunities sponsored by the Principal Investigator & DIR & 9 & GENDREAU & KEITH C. & 1 & DDT\\_TOO & Director Target of Operations & missing & true & false & false \\\\\n",
       "\t4 & 1A\\_0535+262 & 84.7269 & 26.3156 & 181.445 & -2.64399 & 2018-09-30T01:12:19 & 2018-09-30T01:38:03 & 1200360105 & 1429.0 & 0.0 & 52 & VALIDATED & 2018-10-08T00:19:17 & 2018-10-14T00:00:00 & l0-master\\_20180712 & 2 & xti20180711 & Hea\\_24Apr2018\\_V6.24\\_NICER\\_2018-07-12\\_V004a & 1200 & Target of Opportunities sponsored by the Principal Investigator & DIR & 9 & GENDREAU & KEITH C. & 1 & DDT\\_TOO & Director Target of Operations & missing & true & false & false \\\\\n",
       "\t5 & 1A\\_0535+262 & 84.7271 & 26.3156 & 181.445 & -2.64387 & 2018-09-25T06:46:44 & 2018-09-25T07:26:25 & 1200360102 & 1321.0 & 0.0 & 52 & VALIDATED & 2018-10-21T18:40:02 & 2018-10-09T00:00:00 & l0-master\\_20181010 & 3 & xti20180711 & Hea\\_24Apr2018\\_V6.24\\_NICER\\_2018-10-07\\_V005 & 1200 & Target of Opportunities sponsored by the Principal Investigator & DIR & 9 & GENDREAU & KEITH C. & 1 & DDT\\_TOO & Director Target of Operations & missing & true & false & false \\\\\n",
       "\\end{tabular}\n"
      ],
      "text/plain": [
       "5×31 DataFrames.DataFrame. Omitted printing of 26 columns\n",
       "│ Row │ name        │ ra      │ dec     │ lii     │ bii      │\n",
       "│     │ \u001b[90mString\u001b[39m      │ \u001b[90mFloat64\u001b[39m │ \u001b[90mFloat64\u001b[39m │ \u001b[90mFloat64\u001b[39m │ \u001b[90mFloat64\u001b[39m  │\n",
       "├─────┼─────────────┼─────────┼─────────┼─────────┼──────────┤\n",
       "│ 1   │ 1A_0535+262 │ 84.3791 │ 26.1659 │ 181.405 │ -2.98776 │\n",
       "│ 2   │ 1A_0535+262 │ 84.7281 │ 26.31   │ 181.45  │ -2.64605 │\n",
       "│ 3   │ 1A_0535+262 │ 84.7269 │ 26.3154 │ 181.445 │ -2.64411 │\n",
       "│ 4   │ 1A_0535+262 │ 84.7269 │ 26.3156 │ 181.445 │ -2.64399 │\n",
       "│ 5   │ 1A_0535+262 │ 84.7271 │ 26.3156 │ 181.445 │ -2.64387 │"
      ]
     },
     "execution_count": 22,
     "metadata": {},
     "output_type": "execute_result"
    }
   ],
   "source": [
    "JAXTAM.master_query(nicer, :name, \"1A_0535+262\")"
   ]
  },
  {
   "cell_type": "code",
   "execution_count": 24,
   "metadata": {},
   "outputs": [
    {
     "data": {
      "text/plain": [
       "DataFrameRow (row 1)\n",
       "name                1A_0535+262\n",
       "ra                  84.72708\n",
       "dec                 26.31559\n",
       "lii                 181.44505501\n",
       "bii                 -2.64387286\n",
       "time                2018-09-25T06:46:44\n",
       "end_time            2018-09-25T07:26:25\n",
       "obsid               1200360102\n",
       "exposure            1321.0\n",
       "time_awarded        0.0\n",
       "num_fpm             52\n",
       "processing_status   VALIDATED\n",
       "processing_date     2018-10-21T18:40:02\n",
       "public_date         2018-10-09T00:00:00\n",
       "processing_version  l0-master_20181010\n",
       "num_processed       3\n",
       "caldb_version       xti20180711\n",
       "software_version    Hea_24Apr2018_V6.24_NICER_2018-10-07_V005\n",
       "prnb                1200\n",
       "abstract            Target of Opportunities sponsored by the Principal Investigator\n",
       "subject_category    DIR\n",
       "category_code       9\n",
       "pi_lname            GENDREAU\n",
       "pi_fname            KEITH C.\n",
       "cycle               1\n",
       "obs_type            DDT_TOO\n",
       "title               Director Target of Operations\n",
       "remarks             missing\n",
       "publicity           true\n",
       "logged              false\n",
       "downloaded          false"
      ]
     },
     "execution_count": 24,
     "metadata": {},
     "output_type": "execute_result"
    }
   ],
   "source": [
    "obs_row = JAXTAM.master_query(nicer, :obsid, \"1200360102\")"
   ]
  },
  {
   "cell_type": "markdown",
   "metadata": {},
   "source": [
    "Query will either return a subset of the master `DataFrame` if multiple observations match the query, or an individual `DataFrameRow` if only one observation is returned.\n",
    "\n",
    "Previously the `_obs_path_server` function was mentioned as being part of the mission configuration. This function takes in a row from the master table, and using the information in that row returns the path of the observation on the HEASARC FTP server:"
   ]
  },
  {
   "cell_type": "code",
   "execution_count": 27,
   "metadata": {},
   "outputs": [
    {
     "data": {
      "text/plain": [
       "\"/.nicer_archive/.nicer_201809a/obs/2018_09/1200360102\""
      ]
     },
     "execution_count": 27,
     "metadata": {},
     "output_type": "execute_result"
    }
   ],
   "source": [
    "JAXTAM._obs_path_server(nicer, obs_row)"
   ]
  },
  {
   "cell_type": "markdown",
   "metadata": {},
   "source": [
    "Using the paths set in the json path config file, a function can also return the local path, depnding on which kind of path is being searched for:"
   ]
  },
  {
   "cell_type": "code",
   "execution_count": 30,
   "metadata": {},
   "outputs": [
    {
     "data": {
      "text/plain": [
       "\"/media/robert/data/heasarc/nicer/download/nicer_archive/nicer_201809a/obs/2018_09/1200360102\""
      ]
     },
     "execution_count": 30,
     "metadata": {},
     "output_type": "execute_result"
    }
   ],
   "source": [
    "JAXTAM._obs_path_local(nicer, obs_row; kind=:download)"
   ]
  },
  {
   "cell_type": "code",
   "execution_count": 31,
   "metadata": {},
   "outputs": [
    {
     "data": {
      "text/plain": [
       "\"/media/robert/data/heasarc/nicer/jaxtam/nicer_archive/nicer_201809a/obs/2018_09/1200360102\""
      ]
     },
     "execution_count": 31,
     "metadata": {},
     "output_type": "execute_result"
    }
   ],
   "source": [
    "JAXTAM._obs_path_local(nicer, obs_row; kind=:jaxtam)"
   ]
  },
  {
   "cell_type": "code",
   "execution_count": 32,
   "metadata": {},
   "outputs": [
    {
     "data": {
      "text/plain": [
       "\"/media/robert/data/heasarc/nicer/web/nicer_archive/nicer_201809a/obs/2018_09/1200360102\""
      ]
     },
     "execution_count": 32,
     "metadata": {},
     "output_type": "execute_result"
    }
   ],
   "source": [
    "JAXTAM._obs_path_local(nicer, obs_row; kind=:web)"
   ]
  },
  {
   "cell_type": "markdown",
   "metadata": {},
   "source": [
    "Depending on the use case, it may be desireable to have these paths all be in different locations, or all to be identical. For example, splitting the `download` path out from the `jaxtam` and `web` paths can be useful if you want to easily delete the raw downloaded observation once the `jaxtam` analysis files have been generated, or it may be useful to directly place the `web` path in a `public_html` folder"
   ]
  },
  {
   "cell_type": "markdown",
   "metadata": {},
   "source": [
    "# Downloading Observations\n",
    "\n"
   ]
  }
 ],
 "metadata": {
  "kernelspec": {
   "display_name": "Julia 0.7.0",
   "language": "julia",
   "name": "julia-0.7"
  },
  "language_info": {
   "file_extension": ".jl",
   "mimetype": "application/julia",
   "name": "julia",
   "version": "0.7.0"
  }
 },
 "nbformat": 4,
 "nbformat_minor": 2
}
