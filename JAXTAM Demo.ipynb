{
 "cells": [
  {
   "cell_type": "markdown",
   "metadata": {},
   "source": [
    "# JAXTAM - Just Another X-Ray Timing Module\n",
    "\n",
    "## Walkthrough\n",
    "\n",
    "First, import JAXTAM by calling `using JAXTAM`"
   ]
  },
  {
   "cell_type": "code",
   "execution_count": 1,
   "metadata": {},
   "outputs": [],
   "source": [
    "using JAXTAM"
   ]
  },
  {
   "cell_type": "markdown",
   "metadata": {},
   "source": [
    "Now, the local user configuration needs to be set up."
   ]
  },
  {
   "cell_type": "markdown",
   "metadata": {},
   "source": [
    "## Configuration"
   ]
  },
  {
   "cell_type": "code",
   "execution_count": 2,
   "metadata": {},
   "outputs": [
    {
     "name": "stderr",
     "output_type": "stream",
     "text": [
      "\u001b[1m\u001b[33mWARNING: \u001b[39m\u001b[22m\u001b[33mConfig file not found!\u001b[39m\n",
      "\u001b[1m\u001b[36mINFO: \u001b[39m\u001b[22m\u001b[36mCreating config file at: /home/robert/.julia/v0.6/JAXTAM/user_configs.jld2\n",
      "\u001b[39m"
     ]
    },
    {
     "data": {
      "text/plain": [
       "Dict{Any,Any} with 1 entry:\n",
       "  :_config_edit_date => 2018-07-06T11:31:55.284"
      ]
     },
     "execution_count": 2,
     "metadata": {},
     "output_type": "execute_result"
    }
   ],
   "source": [
    "JAXTAM.config()"
   ]
  },
  {
   "cell_type": "markdown",
   "metadata": {},
   "source": [
    "Add in the missions. Mission configurations are defined by a `MissionDefinition` type:\n",
    "\n",
    "\n",
    "```\n",
    "mutable struct MissionDefinition\n",
    "    name::String\n",
    "    url::String\n",
    "    path::String\n",
    "    path_obs::Function\n",
    "    path_cl::Function\n",
    "    path_uf::Function\n",
    "    path_rmf::String\n",
    "end\n",
    "```\n",
    "\n",
    "These types contain the mission `name`, an `url` to the HEASARC master table for that mission, a `path` to the local folder the data will be stored in, three path functions (`path_obs`, `path_cl`, and `path_uf`) which return the path to the relevant folders/files, given a row from the master table. Functions have to be used for this as some more complex path structures exist, like for NICER which uses the observation date for the folders.\n",
    "\n",
    "JAXTAM includes default missions, if a mission name is included in these defaults then only the local `path` is required. This speeds up adding new missions:"
   ]
  },
  {
   "cell_type": "code",
   "execution_count": 3,
   "metadata": {},
   "outputs": [
    {
     "name": "stderr",
     "output_type": "stream",
     "text": [
      "\u001b[1m\u001b[36mINFO: \u001b[39m\u001b[22m\u001b[36mnicer found in defaults\n",
      "Using /media/robert/HVS1/heasrac/nicer/ as path\n",
      "\u001b[39m"
     ]
    },
    {
     "data": {
      "text/plain": [
       "Dict{Any,Any} with 2 entries:\n",
       "  :nicer             => JAXTAM.MissionDefinition(\"nicer\", \"https://heasarc.gsfc…\n",
       "  :_config_edit_date => 2018-07-06T11:32:04.008"
      ]
     },
     "execution_count": 3,
     "metadata": {},
     "output_type": "execute_result"
    }
   ],
   "source": [
    "JAXTAM.config(:nicer, \"/media/robert/HVS1/heasrac/nicer/\")"
   ]
  },
  {
   "cell_type": "code",
   "execution_count": 4,
   "metadata": {},
   "outputs": [
    {
     "name": "stderr",
     "output_type": "stream",
     "text": [
      "\u001b[1m\u001b[36mINFO: \u001b[39m\u001b[22m\u001b[36mnustar found in defaults\n",
      "Using /media/robert/HVS1/heasrac/nustar/ as path\n",
      "\u001b[39m"
     ]
    },
    {
     "data": {
      "text/plain": [
       "Dict{Any,Any} with 3 entries:\n",
       "  :nicer             => JAXTAM.MissionDefinition(\"nicer\", \"https://heasarc.gsfc…\n",
       "  :_config_edit_date => 2018-07-06T11:32:04.924\n",
       "  :nustar            => JAXTAM.MissionDefinition(\"nustar\", \"https://heasarc.gsf…"
      ]
     },
     "execution_count": 4,
     "metadata": {},
     "output_type": "execute_result"
    }
   ],
   "source": [
    "JAXTAM.config(:nustar, \"/media/robert/HVS1/heasrac/nustar/\")"
   ]
  },
  {
   "cell_type": "markdown",
   "metadata": {},
   "source": [
    "A default mission can also be set in the configuration:"
   ]
  },
  {
   "cell_type": "code",
   "execution_count": 5,
   "metadata": {},
   "outputs": [
    {
     "name": "stderr",
     "output_type": "stream",
     "text": [
      "\u001b[1m\u001b[36mINFO: \u001b[39m\u001b[22m\u001b[36mSetting default mission to nicer\n",
      "\u001b[39m"
     ]
    },
    {
     "data": {
      "text/plain": [
       "Dict{Any,Any} with 4 entries:\n",
       "  :nicer             => JAXTAM.MissionDefinition(\"nicer\", \"https://heasarc.gsfc…\n",
       "  :default           => :nicer\n",
       "  :_config_edit_date => 2018-07-06T11:32:05.1\n",
       "  :nustar            => JAXTAM.MissionDefinition(\"nustar\", \"https://heasarc.gsf…"
      ]
     },
     "execution_count": 5,
     "metadata": {},
     "output_type": "execute_result"
    }
   ],
   "source": [
    "JAXTAM.config(:default, :nicer)"
   ]
  },
  {
   "cell_type": "markdown",
   "metadata": {},
   "source": [
    "Removing missions is simple and can be done with `config_rm(mission_name`."
   ]
  },
  {
   "cell_type": "markdown",
   "metadata": {},
   "source": [
    "## Master Tables\n",
    "\n",
    "As the url to the master table is included in the mission definitions, downloading the master tables is simple:"
   ]
  },
  {
   "cell_type": "code",
   "execution_count": 6,
   "metadata": {},
   "outputs": [
    {
     "name": "stderr",
     "output_type": "stream",
     "text": [
      "\u001b[1m\u001b[33mWARNING: \u001b[39m\u001b[22m\u001b[33mNo master file found, looked for: \n",
      "\t/media/robert/HVS1/heasrac/nicer/master.tdat \n",
      "\t/media/robert/HVS1/heasrac/nicer/master.jld2\u001b[39m\n",
      "\u001b[1m\u001b[36mINFO: \u001b[39m\u001b[22m\u001b[36mDownload master files from `https://heasarc.gsfc.nasa.gov/FTP/heasarc/dbase/tdat_files/heasarc_nicermastr.tdat.gz`? (y/n)\n",
      "\u001b[39m\u001b[1m\u001b[36mINFO: \u001b[39m\u001b[22m\u001b[36mDownloading latest master catalog\n",
      "\u001b[39m  % Total    % Received % Xferd  Average Speed   Time    Time     Time  Current\n",
      "                                 Dload  Upload   Total   Spent    Left  Speed\n",
      "100  358k  100  358k    0     0   220k      0  0:00:01  0:00:01 --:--:--  220k\n"
     ]
    },
    {
     "name": "stdout",
     "output_type": "stream",
     "text": [
      "\n",
      "7-Zip [64] 9.20  Copyright (c) 1999-2010 Igor Pavlov  2010-11-18\n",
      "p7zip Version 9.20 (locale=en_GB.UTF-8,Utf16=on,HugeFiles=on,4 CPUs)\n",
      "\n",
      "Processing archive: /media/robert/HVS1/heasrac/nicer/master.tdat\n",
      "\n",
      "Extracting  master\n",
      "\n",
      "Everything is Ok\n",
      "\n",
      "Size:       2729320\n",
      "Compressed: 366731\n"
     ]
    },
    {
     "name": "stderr",
     "output_type": "stream",
     "text": [
      "\u001b[1m\u001b[36mINFO: \u001b[39m\u001b[22m\u001b[36mLoading /media/robert/HVS1/heasrac/nicer/master.tdat\n",
      "\u001b[39m\u001b[1m\u001b[36mINFO: \u001b[39m\u001b[22m\u001b[36mSaving /media/robert/HVS1/heasrac/nicer/master.jld2\n",
      "\u001b[39m"
     ]
    },
    {
     "data": {
      "text/html": [
       "<table class=\"data-frame\"><thead><tr><th></th><th>name</th><th>ra</th><th>dec</th><th>lii</th><th>bii</th><th>time</th><th>end_time</th><th>obsid</th><th>exposure</th><th>time_awarded</th><th>num_fpm</th><th>processing_status</th><th>processing_date</th><th>public_date</th><th>processing_version</th><th>num_processed</th><th>caldb_version</th><th>software_version</th><th>prnb</th><th>abstract</th><th>subject_category</th><th>category_code</th><th>pi_lname</th><th>pi_fname</th><th>cycle</th><th>obs_type</th><th>title</th><th>remarks</th></tr></thead><tbody><tr><th>1</th><td>1E_0102.2-7219</td><td>15.98982</td><td>-72.064019999999999</td><td>301.56842509000001</td><td>-45.031067120000003</td><td>2017-06-19T19:01:25</td><td>2017-06-19T19:13:02</td><td>0010010101</td><td>3.0</td><td>0.0</td><td>52</td><td>PROCESSED</td><td>2018-03-02T21:41:19</td><td>2099-12-31T00:00:00</td><td>l0-master_20180226</td><td>3</td><td>xti20180226</td><td>Hea_10Oct2017_V6.22.1_NICER_2018-03-01_V003</td><td>0010</td><td>Observations of general NICER calibration</td><td>CAL</td><td>1</td><td>GENDREAU</td><td>KEITH C.</td><td>0</td><td>CAL</td><td>CALIBRATION</td><td>missing</td></tr><tr><th>2</th><td>1E_0102.2-7219</td><td>16.015969999999999</td><td>-72.062550000000002</td><td>301.55691327</td><td>-45.031977480000002</td><td>2017-06-22T00:42:42</td><td>2017-06-22T08:39:55</td><td>0010010104</td><td>3.0</td><td>0.0</td><td>52</td><td>PROCESSED</td><td>2018-03-02T21:50:08</td><td>2099-12-31T00:00:00</td><td>l0-master_20180226</td><td>3</td><td>xti20180226</td><td>Hea_10Oct2017_V6.22.1_NICER_2018-03-01_V003</td><td>0010</td><td>Observations of general NICER calibration</td><td>CAL</td><td>1</td><td>GENDREAU</td><td>KEITH C.</td><td>0</td><td>CAL</td><td>CALIBRATION</td><td>missing</td></tr></tbody></table>"
      ],
      "text/plain": [
       "2×28 DataFrames.DataFrame. Omitted printing of 25 columns\n",
       "│ Row │ name           │ ra                 │ dec                 │\n",
       "├─────┼────────────────┼────────────────────┼─────────────────────┤\n",
       "│ 1   │ 1E_0102.2-7219 │ 15.98982           │ -72.064019999999999 │\n",
       "│ 2   │ 1E_0102.2-7219 │ 16.015969999999999 │ -72.062550000000002 │"
      ]
     },
     "execution_count": 6,
     "metadata": {},
     "output_type": "execute_result"
    }
   ],
   "source": [
    "JAXTAM.master(:nicer)[1:2, :]"
   ]
  },
  {
   "cell_type": "markdown",
   "metadata": {},
   "source": [
    "Once the table has been downloaded, repeated calls to `master` will use the current version of the table. To update the table, simply call `master_update`"
   ]
  },
  {
   "cell_type": "markdown",
   "metadata": {},
   "source": [
    "### Append Table\n",
    "\n",
    "For sanity, the master table is not modified (apart from dates being converted from MJD to the standard yyyy-mm-ddThh:mm:ss format), so an `append` table is used to store new variables."
   ]
  },
  {
   "cell_type": "code",
   "execution_count": 7,
   "metadata": {},
   "outputs": [
    {
     "name": "stderr",
     "output_type": "stream",
     "text": [
      "\u001b[1m\u001b[36mINFO: \u001b[39m\u001b[22m\u001b[36mUsing default mission - nicer\n",
      "\u001b[39m\u001b[1m\u001b[36mINFO: \u001b[39m\u001b[22m\u001b[36mLoading /media/robert/HVS1/heasrac/nicer/master.jld2\n",
      "\u001b[39m\u001b[1m\u001b[36mINFO: \u001b[39m\u001b[22m\u001b[36mSaving /media/robert/HVS1/heasrac/nicer/append.jld2\n",
      "\u001b[39m"
     ]
    },
    {
     "data": {
      "text/html": [
       "<table class=\"data-frame\"><thead><tr><th></th><th>obsid</th><th>publicity</th><th>obs_path</th><th>event_uf</th><th>event_cl</th><th>downloaded</th></tr></thead><tbody><tr><th>1</th><td>0010010101</td><td>false</td><td>/media/robert/HVS1/heasrac/nicer/nicer_archive/nicer_201706a/obs/2017_06/0010010101</td><td>(\"/media/robert/HVS1/heasrac/nicer/nicer_archive/nicer_201706a/obs/2017_06/0010010101/xti/event_uf/ni0010010101_0mpu0_uf.evt\", \"/media/robert/HVS1/heasrac/nicer/nicer_archive/nicer_201706a/obs/2017_06/0010010101/xti/event_uf/ni0010010101_0mpu1_uf.evt\", \"/media/robert/HVS1/heasrac/nicer/nicer_archive/nicer_201706a/obs/2017_06/0010010101/xti/event_uf/ni0010010101_0mpu2_uf.evt\", \"/media/robert/HVS1/heasrac/nicer/nicer_archive/nicer_201706a/obs/2017_06/0010010101/xti/event_uf/ni0010010101_0mpu3_uf.evt\", \"/media/robert/HVS1/heasrac/nicer/nicer_archive/nicer_201706a/obs/2017_06/0010010101/xti/event_uf/ni0010010101_0mpu4_uf.evt\", \"/media/robert/HVS1/heasrac/nicer/nicer_archive/nicer_201706a/obs/2017_06/0010010101/xti/event_uf/ni0010010101_0mpu5_uf.evt\", \"/media/robert/HVS1/heasrac/nicer/nicer_archive/nicer_201706a/obs/2017_06/0010010101/xti/event_uf/ni0010010101_0mpu6_uf.evt\")</td><td>(\"/media/robert/HVS1/heasrac/nicer/nicer_archive/nicer_201706a/obs/2017_06/0010010101/xti/event_cl/ni0010010101_0mpu7_cl.evt\",)</td><td>false</td></tr><tr><th>2</th><td>0010010104</td><td>false</td><td>/media/robert/HVS1/heasrac/nicer/nicer_archive/nicer_201706a/obs/2017_06/0010010104</td><td>(\"/media/robert/HVS1/heasrac/nicer/nicer_archive/nicer_201706a/obs/2017_06/0010010104/xti/event_uf/ni0010010104_0mpu0_uf.evt\", \"/media/robert/HVS1/heasrac/nicer/nicer_archive/nicer_201706a/obs/2017_06/0010010104/xti/event_uf/ni0010010104_0mpu1_uf.evt\", \"/media/robert/HVS1/heasrac/nicer/nicer_archive/nicer_201706a/obs/2017_06/0010010104/xti/event_uf/ni0010010104_0mpu2_uf.evt\", \"/media/robert/HVS1/heasrac/nicer/nicer_archive/nicer_201706a/obs/2017_06/0010010104/xti/event_uf/ni0010010104_0mpu3_uf.evt\", \"/media/robert/HVS1/heasrac/nicer/nicer_archive/nicer_201706a/obs/2017_06/0010010104/xti/event_uf/ni0010010104_0mpu4_uf.evt\", \"/media/robert/HVS1/heasrac/nicer/nicer_archive/nicer_201706a/obs/2017_06/0010010104/xti/event_uf/ni0010010104_0mpu5_uf.evt\", \"/media/robert/HVS1/heasrac/nicer/nicer_archive/nicer_201706a/obs/2017_06/0010010104/xti/event_uf/ni0010010104_0mpu6_uf.evt\")</td><td>(\"/media/robert/HVS1/heasrac/nicer/nicer_archive/nicer_201706a/obs/2017_06/0010010104/xti/event_cl/ni0010010104_0mpu7_cl.evt\",)</td><td>false</td></tr></tbody></table>"
      ],
      "text/plain": [
       "2×6 DataFrames.DataFrame. Omitted printing of 4 columns\n",
       "│ Row │ obsid      │ publicity │\n",
       "├─────┼────────────┼───────────┤\n",
       "│ 1   │ 0010010101 │ false     │\n",
       "│ 2   │ 0010010104 │ false     │"
      ]
     },
     "execution_count": 7,
     "metadata": {},
     "output_type": "execute_result"
    }
   ],
   "source": [
    "JAXTAM.append()[1:2, :]"
   ]
  },
  {
   "cell_type": "markdown",
   "metadata": {},
   "source": [
    "The append table contains file and folder paths for each observation, which are found using the path functions contained in the mission definition, as well as a publicity flag and a downloaded flag. This table can easily be expanded on as required.\n",
    "\n",
    "To automatically load a joined version of the master and append tables, call `master_a()`."
   ]
  },
  {
   "cell_type": "markdown",
   "metadata": {},
   "source": [
    "### Master Query\n",
    "\n",
    "For utility, a generic query function exists, allowing users to search for specific column values within the master and append tables."
   ]
  },
  {
   "cell_type": "code",
   "execution_count": 8,
   "metadata": {},
   "outputs": [
    {
     "name": "stderr",
     "output_type": "stream",
     "text": [
      "\u001b[1m\u001b[36mINFO: \u001b[39m\u001b[22m\u001b[36mLoading /media/robert/HVS1/heasrac/nicer/master.jld2\n",
      "\u001b[39m"
     ]
    }
   ],
   "source": [
    "master_df = JAXTAM.master(:nicer);"
   ]
  },
  {
   "cell_type": "code",
   "execution_count": 9,
   "metadata": {},
   "outputs": [
    {
     "data": {
      "text/html": [
       "<table class=\"data-frame\"><thead><tr><th></th><th>name</th><th>ra</th><th>dec</th><th>lii</th><th>bii</th><th>time</th><th>end_time</th><th>obsid</th><th>exposure</th><th>time_awarded</th><th>num_fpm</th><th>processing_status</th><th>processing_date</th><th>public_date</th><th>processing_version</th><th>num_processed</th><th>caldb_version</th><th>software_version</th><th>prnb</th><th>abstract</th><th>subject_category</th><th>category_code</th><th>pi_lname</th><th>pi_fname</th><th>cycle</th><th>obs_type</th><th>title</th><th>remarks</th></tr></thead><tbody><tr><th>1</th><td>1E_0102.2-7219</td><td>16.009440000000001</td><td>-72.031440000000003</td><td>301.55670425</td><td>-45.063152170000002</td><td>2017-12-03T17:09:18</td><td>2017-12-03T18:52:00</td><td>1010010128</td><td>72.0</td><td>60000.0</td><td>52</td><td>VALIDATED</td><td>2018-03-03T03:38:41</td><td>2018-03-04T00:00:00</td><td>l0-master_20180226</td><td>3</td><td>xti20180226</td><td>Hea_10Oct2017_V6.22.1_NICER_2018-03-01_V003</td><td>1010</td><td>Observations of general NICER calibration</td><td>CAL</td><td>1</td><td>GENDREAU</td><td>KEITH C.</td><td>1</td><td>CAL</td><td>CALIBRATION</td><td>missing</td></tr></tbody></table>"
      ],
      "text/plain": [
       "1×28 DataFrames.DataFrame. Omitted printing of 25 columns\n",
       "│ Row │ name           │ ra                 │ dec                 │\n",
       "├─────┼────────────────┼────────────────────┼─────────────────────┤\n",
       "│ 1   │ 1E_0102.2-7219 │ 16.009440000000001 │ -72.031440000000003 │"
      ]
     },
     "execution_count": 9,
     "metadata": {},
     "output_type": "execute_result"
    }
   ],
   "source": [
    "JAXTAM.master_query(master_df, :obsid, \"1010010128\")"
   ]
  },
  {
   "cell_type": "code",
   "execution_count": 10,
   "metadata": {},
   "outputs": [
    {
     "data": {
      "text/html": [
       "<table class=\"data-frame\"><thead><tr><th></th><th>name</th><th>ra</th><th>dec</th><th>lii</th><th>bii</th><th>time</th><th>end_time</th><th>obsid</th><th>exposure</th><th>time_awarded</th><th>num_fpm</th><th>processing_status</th><th>processing_date</th><th>public_date</th><th>processing_version</th><th>num_processed</th><th>caldb_version</th><th>software_version</th><th>prnb</th><th>abstract</th><th>subject_category</th><th>category_code</th><th>pi_lname</th><th>pi_fname</th><th>cycle</th><th>obs_type</th><th>title</th><th>remarks</th></tr></thead><tbody><tr><th>1</th><td>1E_1048.1-5937</td><td>162.52000000000001</td><td>-59.921030000000002</td><td>288.26640995999998</td><td>-0.55070085999999996</td><td>2017-06-22T17:19:29</td><td>2017-06-22T22:25:42</td><td>0020240101</td><td>0.0</td><td>0.0</td><td>52</td><td>PROCESSED</td><td>2018-03-03T05:15:30</td><td>2099-12-31T00:00:00</td><td>l0-master_20180226</td><td>2</td><td>xti20180226</td><td>Hea_10Oct2017_V6.22.1_NICER_2018-03-01_V003</td><td>0020</td><td>Observations dedicated to the Magnetar science working group</td><td>MAGNETAR</td><td>2</td><td>GENDREAU</td><td>KEITH C.</td><td>0</td><td>NOR</td><td>MAGNETAR WORKING GROUP</td><td>missing</td></tr><tr><th>2</th><td>1E_1048.1-5937</td><td>162.54390000000001</td><td>-59.890210000000003</td><td>288.26326461000002</td><td>-0.51778281000000004</td><td>2018-01-30T14:50:43</td><td>2018-01-30T15:14:04</td><td>1020240126</td><td>729.0</td><td>60000.0</td><td>52</td><td>VALIDATED</td><td>2018-03-05T12:33:49</td><td>2018-03-04T00:00:00</td><td>l0-master_20180226</td><td>4</td><td>xti20180226</td><td>Hea_10Oct2017_V6.22.1_NICER_2018-03-01_V003</td><td>1020</td><td>Observations dedicated to the Magnetar science working group</td><td>MAGNETAR</td><td>2</td><td>GENDREAU</td><td>KEITH C.</td><td>1</td><td>NOR</td><td>MAGNETAR WORKING GROUP</td><td>missing</td></tr></tbody></table>"
      ],
      "text/plain": [
       "2×28 DataFrames.DataFrame. Omitted printing of 25 columns\n",
       "│ Row │ name           │ ra                 │ dec                 │\n",
       "├─────┼────────────────┼────────────────────┼─────────────────────┤\n",
       "│ 1   │ 1E_1048.1-5937 │ 162.52000000000001 │ -59.921030000000002 │\n",
       "│ 2   │ 1E_1048.1-5937 │ 162.54390000000001 │ -59.890210000000003 │"
      ]
     },
     "execution_count": 10,
     "metadata": {},
     "output_type": "execute_result"
    }
   ],
   "source": [
    "JAXTAM.master_query(master_df, :subject_category, \"MAGNETAR\")[1:2, :]"
   ]
  },
  {
   "cell_type": "markdown",
   "metadata": {},
   "source": [
    "Public only query functions are also available, in this case we see NICER has 5850 public observations."
   ]
  },
  {
   "cell_type": "code",
   "execution_count": 11,
   "metadata": {},
   "outputs": [
    {
     "name": "stderr",
     "output_type": "stream",
     "text": [
      "\u001b[1m\u001b[36mINFO: \u001b[39m\u001b[22m\u001b[36mLoading /media/robert/HVS1/heasrac/nicer/master.jld2\n",
      "\u001b[39m"
     ]
    },
    {
     "data": {
      "text/plain": [
       "(5850, 28)"
      ]
     },
     "execution_count": 11,
     "metadata": {},
     "output_type": "execute_result"
    }
   ],
   "source": [
    "size(JAXTAM.master_query_public(:nicer))"
   ]
  },
  {
   "cell_type": "code",
   "execution_count": 12,
   "metadata": {},
   "outputs": [
    {
     "data": {
      "text/plain": [
       "(1353, 28)"
      ]
     },
     "execution_count": 12,
     "metadata": {},
     "output_type": "execute_result"
    }
   ],
   "source": [
    "size(JAXTAM.master_query_public(master_df, :subject_category, \"MAGNETAR\"))"
   ]
  },
  {
   "cell_type": "markdown",
   "metadata": {},
   "source": [
    "With 1353 of them being magnetars."
   ]
  },
  {
   "cell_type": "markdown",
   "metadata": {},
   "source": [
    "## Downloading Observations\n",
    "\n",
    "Downloading observations is made to be simple and intuitive, simply give an observation ID and the observation will be downloaded, respecting the FTP folder structure, into the mission path specified in the configuration file:"
   ]
  },
  {
   "cell_type": "code",
   "execution_count": 13,
   "metadata": {},
   "outputs": [
    {
     "name": "stderr",
     "output_type": "stream",
     "text": [
      "\u001b[1m\u001b[36mINFO: \u001b[39m\u001b[22m\u001b[36mLoading /media/robert/HVS1/heasrac/nicer/master.jld2\n",
      "\u001b[39m\u001b[1m\u001b[36mINFO: \u001b[39m\u001b[22m\u001b[36mheasarc.gsfc.nasa.gov:/.nicer_archive/.nicer_201805a/obs/2018_05/1010010192 --> /media/robert/HVS1/heasrac/nicer/nicer_archive/nicer_201805a/obs/2018_05/1010010192\n",
      "\u001b[39m"
     ]
    },
    {
     "name": "stdout",
     "output_type": "stream",
     "text": [
      "`lftp heasarc.gsfc.nasa.gov -e 'mirror \"/.nicer_archive/.nicer_201805a/obs/2018_05/1010010192\" \"/media/robert/HVS1/heasrac/nicer/nicer_archive/nicer_201805a/obs/2018_05/1010010192\" --parallel=10 --only-newer && exit'`\n"
     ]
    }
   ],
   "source": [
    "JAXTAM.download(:nicer, \"1010010192\")"
   ]
  },
  {
   "cell_type": "markdown",
   "metadata": {},
   "source": [
    "This is done via `lftp` using 10 parallel connections for speed.\n",
    "\n",
    "The download command can be paired with query to queue up multiple downloads, for example downloading all public observations would be:"
   ]
  },
  {
   "cell_type": "code",
   "execution_count": null,
   "metadata": {},
   "outputs": [],
   "source": [
    "#JAXTAM.download(:nicer, JAXTAM.master_query_public(:nicer)[:obsid])"
   ]
  },
  {
   "cell_type": "markdown",
   "metadata": {},
   "source": [
    "## Analysis\n",
    "\n",
    "### Reading Observation to Feather\n",
    "\n",
    "Reading an observation in must be done before any analysis is started. This function converts the FITS files into feather ones for faster i/o operations, and stores a few relevant fits comments:"
   ]
  },
  {
   "cell_type": "code",
   "execution_count": 14,
   "metadata": {},
   "outputs": [
    {
     "name": "stderr",
     "output_type": "stream",
     "text": [
      "\u001b[1m\u001b[36mINFO: \u001b[39m\u001b[22m\u001b[36mLoading /media/robert/HVS1/heasrac/nicer/master.jld2\n",
      "\u001b[39m\u001b[1m\u001b[36mINFO: \u001b[39m\u001b[22m\u001b[36mLoading /media/robert/HVS1/heasrac/nicer/append.jld2\n",
      "\u001b[39m"
     ]
    },
    {
     "name": "stdout",
     "output_type": "stream",
     "text": [
      "\n"
     ]
    },
    {
     "name": "stderr",
     "output_type": "stream",
     "text": [
      "\u001b[1m\u001b[36mINFO: \u001b[39m\u001b[22m\u001b[36mFound: /media/robert/HVS1/heasrac/nicer/nicer_archive/nicer_201805a/obs/2018_05/1010010192/xti/event_cl/ni1010010192_0mpu7_cl.evt.gz\n",
      "\u001b[39m\u001b[1m\u001b[36mINFO: \u001b[39m\u001b[22m\u001b[36mFound 1 file(s) for 1010010192\n",
      "\u001b[39m\u001b[1m\u001b[36mINFO: \u001b[39m\u001b[22m\u001b[36mLoading /media/robert/HVS1/heasrac/nicer/nicer_archive/nicer_201805a/obs/2018_05/1010010192/xti/event_cl/ni1010010192_0mpu7_cl.evt.gz\n",
      "\u001b[39m\u001b[1m\u001b[33mWARNING: \u001b[39m\u001b[22m\u001b[33mEVENT_FLAGS not supported by FITSIO, skipped\u001b[39m\n",
      "\u001b[1m\u001b[36mINFO: \u001b[39m\u001b[22m\u001b[36mSaving XTI\n",
      "\u001b[39m"
     ]
    },
    {
     "name": "stdout",
     "output_type": "stream",
     "text": [
      "\n",
      "\n"
     ]
    },
    {
     "data": {
      "text/plain": [
       "Dict{Symbol,JAXTAM.InstrumentData} with 1 entry:\n",
       "  :XTI => JAXTAM.InstrumentData(\"1010010192\", :XTI, 17282×13 DataFrames.DataFra…"
      ]
     },
     "execution_count": 14,
     "metadata": {},
     "output_type": "execute_result"
    }
   ],
   "source": [
    "instrument_data = JAXTAM.read_cl(:nicer, \"1010010192\")"
   ]
  },
  {
   "cell_type": "markdown",
   "metadata": {},
   "source": [
    "The observations are stored in a dictionary, with instruments as the dictionary key. This is done to simplify the cases where a mission has multiple instruments, such as NuSTAR:"
   ]
  },
  {
   "cell_type": "code",
   "execution_count": 15,
   "metadata": {},
   "outputs": [
    {
     "name": "stderr",
     "output_type": "stream",
     "text": [
      "\u001b[1m\u001b[36mINFO: \u001b[39m\u001b[22m\u001b[36mLoading /media/robert/HVS1/heasrac/nustar/master.jld2\n",
      "\u001b[39m\u001b[1m\u001b[36mINFO: \u001b[39m\u001b[22m\u001b[36mLoading /media/robert/HVS1/heasrac/nustar/append.jld2\n",
      "\u001b[39m\u001b[1m\u001b[36mINFO: \u001b[39m\u001b[22m\u001b[36mLoading 10002008001: FPMA from /media/robert/HVS1/heasrac/nustar/nustar/nustar_archive/10002008001/JAXTAM/\n",
      "\u001b[39m\u001b[1m\u001b[36mINFO: \u001b[39m\u001b[22m\u001b[36mLoading 10002008001: FPMB from /media/robert/HVS1/heasrac/nustar/nustar/nustar_archive/10002008001/JAXTAM/\n",
      "\u001b[39m"
     ]
    },
    {
     "data": {
      "text/plain": [
       "Dict{Symbol,JAXTAM.InstrumentData} with 2 entries:\n",
       "  :FPMB => JAXTAM.InstrumentData(\"10002008001\", :FPMB, 524403×27 DataFrames.Dat…\n",
       "  :FPMA => JAXTAM.InstrumentData(\"10002008001\", :FPMA, 571026×27 DataFrames.Dat…"
      ]
     },
     "execution_count": 15,
     "metadata": {},
     "output_type": "execute_result"
    }
   ],
   "source": [
    "JAXTAM.read_cl(:nustar, \"10002008001\")"
   ]
  },
  {
   "cell_type": "markdown",
   "metadata": {},
   "source": [
    "The data is stored in an `InstrumentData` type, which currently contains:\n",
    "\n",
    "```\n",
    "struct InstrumentData\n",
    "    obsid::String\n",
    "    instrument::Symbol\n",
    "    events::DataFrame\n",
    "    gtis::DataFrame\n",
    "    start::Number\n",
    "    stop::Number\n",
    "end\n",
    "```\n",
    "\n",
    "However, it is planned to read all of the header comments in the fits file and store them in a meta variable for later use if required."
   ]
  },
  {
   "cell_type": "code",
   "execution_count": 16,
   "metadata": {},
   "outputs": [
    {
     "data": {
      "text/plain": [
       "JAXTAM.InstrumentData(\"1010010192\", :XTI, 17282×13 DataFrames.DataFrame. Omitted printing of 6 columns\n",
       "│ Row   │ TIME      │ RAWX │ RAWY │ PHA │ PHA_FAST │ DET_ID │ DEADTIME   │\n",
       "├───────┼───────────┼──────┼──────┼─────┼──────────┼────────┼────────────┤\n",
       "│ 1     │ 1.3738e8  │ 0x03 │ 0x01 │ 481 │ 500      │ 0x23   │ 2.26373f-5 │\n",
       "│ 2     │ 1.3738e8  │ 0x02 │ 0x04 │ 561 │ 573      │ 0x34   │ 2.26373f-5 │\n",
       "│ 3     │ 1.3738e8  │ 0x05 │ 0x00 │ 613 │ 512      │ 0x10   │ 2.26373f-5 │\n",
       "│ 4     │ 1.3738e8  │ 0x02 │ 0x06 │ 888 │ 807      │ 0x32   │ 2.26373f-5 │\n",
       "│ 5     │ 1.3738e8  │ 0x02 │ 0x00 │ 561 │ 515      │ 0x25   │ 2.26373f-5 │\n",
       "│ 6     │ 1.3738e8  │ 0x02 │ 0x06 │ 537 │ 465      │ 0x32   │ 2.26373f-5 │\n",
       "│ 7     │ 1.3738e8  │ 0x06 │ 0x04 │ 720 │ 741      │ 0x0c   │ 2.26373f-5 │\n",
       "│ 8     │ 1.3738e8  │ 0x03 │ 0x05 │ 355 │ -32768   │ 0x29   │ 1.51949f-5 │\n",
       "│ 9     │ 1.3738e8  │ 0x03 │ 0x02 │ 487 │ 464      │ 0x2c   │ 2.26373f-5 │\n",
       "│ 10    │ 1.3738e8  │ 0x00 │ 0x06 │ 482 │ -32768   │ 0x3d   │ 1.51949f-5 │\n",
       "│ 11    │ 1.3738e8  │ 0x02 │ 0x01 │ 529 │ 554      │ 0x24   │ 2.26373f-5 │\n",
       "⋮\n",
       "│ 17271 │ 1.37385e8 │ 0x03 │ 0x03 │ 550 │ 618      │ 0x2b   │ 2.26373f-5 │\n",
       "│ 17272 │ 1.37385e8 │ 0x04 │ 0x06 │ 428 │ -32768   │ 0x1e   │ 1.51949f-5 │\n",
       "│ 17273 │ 1.37385e8 │ 0x03 │ 0x00 │ 756 │ 757      │ 0x1b   │ 2.26373f-5 │\n",
       "│ 17274 │ 1.37385e8 │ 0x02 │ 0x00 │ 629 │ 618      │ 0x25   │ 2.26373f-5 │\n",
       "│ 17275 │ 1.37385e8 │ 0x00 │ 0x02 │ 602 │ 619      │ 0x37   │ 2.26373f-5 │\n",
       "│ 17276 │ 1.37385e8 │ 0x03 │ 0x05 │ 481 │ -32768   │ 0x29   │ 2.94595f-5 │\n",
       "│ 17277 │ 1.37385e8 │ 0x04 │ 0x05 │ 532 │ -32768   │ 0x1f   │ 1.51949f-5 │\n",
       "│ 17278 │ 1.37385e8 │ 0x07 │ 0x06 │ 701 │ 692      │ 0x00   │ 2.26373f-5 │\n",
       "│ 17279 │ 1.37385e8 │ 0x04 │ 0x02 │ 566 │ 626      │ 0x22   │ 2.26373f-5 │\n",
       "│ 17280 │ 1.37385e8 │ 0x07 │ 0x00 │ 532 │ 533      │ 0x06   │ 2.26373f-5 │\n",
       "│ 17281 │ 1.37385e8 │ 0x01 │ 0x05 │ 606 │ 615      │ 0x3e   │ 2.26373f-5 │\n",
       "│ 17282 │ 1.37385e8 │ 0x05 │ 0x00 │ 543 │ 457      │ 0x10   │ 2.26373f-5 │, 25×2 DataFrames.DataFrame\n",
       "│ Row │ START     │ STOP      │\n",
       "├─────┼───────────┼───────────┤\n",
       "│ 1   │ 1.3738e8  │ 1.3738e8  │\n",
       "│ 2   │ 1.3738e8  │ 1.3738e8  │\n",
       "│ 3   │ 1.3738e8  │ 1.3738e8  │\n",
       "│ 4   │ 1.3738e8  │ 1.3738e8  │\n",
       "│ 5   │ 1.3738e8  │ 1.3738e8  │\n",
       "│ 6   │ 1.3738e8  │ 1.3738e8  │\n",
       "│ 7   │ 1.3738e8  │ 1.3738e8  │\n",
       "│ 8   │ 1.3738e8  │ 1.3738e8  │\n",
       "│ 9   │ 1.3738e8  │ 1.3738e8  │\n",
       "│ 10  │ 1.3738e8  │ 1.3738e8  │\n",
       "│ 11  │ 1.3738e8  │ 1.3738e8  │\n",
       "│ 12  │ 1.3738e8  │ 1.3738e8  │\n",
       "│ 13  │ 1.3738e8  │ 1.3738e8  │\n",
       "│ 14  │ 1.3738e8  │ 1.3738e8  │\n",
       "│ 15  │ 1.3738e8  │ 1.3738e8  │\n",
       "│ 16  │ 1.3738e8  │ 1.3738e8  │\n",
       "│ 17  │ 1.3738e8  │ 1.3738e8  │\n",
       "│ 18  │ 1.3738e8  │ 1.3738e8  │\n",
       "│ 19  │ 1.3738e8  │ 1.3738e8  │\n",
       "│ 20  │ 1.3738e8  │ 1.3738e8  │\n",
       "│ 21  │ 1.3738e8  │ 1.3738e8  │\n",
       "│ 22  │ 1.37385e8 │ 1.37385e8 │\n",
       "│ 23  │ 1.37385e8 │ 1.37385e8 │\n",
       "│ 24  │ 1.37385e8 │ 1.37385e8 │\n",
       "│ 25  │ 1.37385e8 │ 1.37385e8 │, 1.37379501814498e8, 1.37385444757928e8)"
      ]
     },
     "execution_count": 16,
     "metadata": {},
     "output_type": "execute_result"
    }
   ],
   "source": [
    "instrument_data[:XTI]"
   ]
  },
  {
   "cell_type": "markdown",
   "metadata": {},
   "source": [
    "### Energy Calibration\n",
    "\n",
    "The PI channels can be converted into energies quite easily:"
   ]
  },
  {
   "cell_type": "code",
   "execution_count": 17,
   "metadata": {},
   "outputs": [
    {
     "name": "stderr",
     "output_type": "stream",
     "text": [
      "\u001b[1m\u001b[36mINFO: \u001b[39m\u001b[22m\u001b[36mLoading /media/robert/HVS1/heasrac/nicer/master.jld2\n",
      "\u001b[39m\u001b[1m\u001b[36mINFO: \u001b[39m\u001b[22m\u001b[36mLoading /media/robert/HVS1/heasrac/nicer/append.jld2\n",
      "\u001b[39m\u001b[1m\u001b[36mINFO: \u001b[39m\u001b[22m\u001b[36mLoading EVENTS for 1010010192 from /media/robert/HVS1/heasrac/nicer/nicer_archive/nicer_201805a/obs/2018_05/1010010192/JAXTAM/\n",
      "\u001b[39m\u001b[1m\u001b[36mINFO: \u001b[39m\u001b[22m\u001b[36mLoading XTI EVENTS\n",
      "\u001b[39m\u001b[1m\u001b[36mINFO: \u001b[39m\u001b[22m\u001b[36mLoading 1010010192: XTI from /media/robert/HVS1/heasrac/nicer/nicer_archive/nicer_201805a/obs/2018_05/1010010192/JAXTAM/\n",
      "\u001b[39m\u001b[1m\u001b[36mINFO: \u001b[39m\u001b[22m\u001b[36mSaving XTI CALIB energy\n",
      "\u001b[39m"
     ]
    },
    {
     "data": {
      "text/plain": [
       "Dict{Symbol,JAXTAM.InstrumentData} with 1 entry:\n",
       "  :XTI => JAXTAM.InstrumentData(\"1010010192\", :XTI, 17282×14 DataFrames.DataFra…"
      ]
     },
     "execution_count": 17,
     "metadata": {},
     "output_type": "execute_result"
    }
   ],
   "source": [
    "JAXTAM.calibrate(:nicer, \"1010010192\")"
   ]
  },
  {
   "cell_type": "markdown",
   "metadata": {},
   "source": [
    "This simply adds an extra column to the `InstrumentData.events` DataFrame which contains the energy of that event."
   ]
  },
  {
   "cell_type": "markdown",
   "metadata": {},
   "source": [
    "### Light Curves\n",
    "\n",
    "Binning the events into a light curve can also be done easily:"
   ]
  },
  {
   "cell_type": "code",
   "execution_count": 18,
   "metadata": {},
   "outputs": [
    {
     "data": {
      "text/plain": [
       "((0.0:1.0:5942.0,),   [57  ]  =  25\n",
       "  [58  ]  =  31\n",
       "  [59  ]  =  30\n",
       "  [60  ]  =  25\n",
       "  [61  ]  =  26\n",
       "  [62  ]  =  28\n",
       "  [63  ]  =  27\n",
       "  [64  ]  =  23\n",
       "  [65  ]  =  26\n",
       "  [66  ]  =  33\n",
       "          ⋮\n",
       "  [5903]  =  32\n",
       "  [5904]  =  2\n",
       "  [5906]  =  30\n",
       "  [5907]  =  27\n",
       "  [5908]  =  20\n",
       "  [5909]  =  34\n",
       "  [5910]  =  25\n",
       "  [5911]  =  21\n",
       "  [5912]  =  4\n",
       "  [5927]  =  22\n",
       "  [5928]  =  5)"
      ]
     },
     "execution_count": 18,
     "metadata": {},
     "output_type": "execute_result"
    }
   ],
   "source": [
    "JAXTAM._lcurve(instrument_data[:XTI], 1)"
   ]
  },
  {
   "cell_type": "markdown",
   "metadata": {},
   "source": [
    "This currently returns the time edges, as well as a sparese array of the counts."
   ]
  }
 ],
 "metadata": {
  "kernelspec": {
   "display_name": "Julia 0.6.3",
   "language": "julia",
   "name": "julia-0.6"
  },
  "language_info": {
   "file_extension": ".jl",
   "mimetype": "application/julia",
   "name": "julia",
   "version": "0.6.3"
  }
 },
 "nbformat": 4,
 "nbformat_minor": 2
}
