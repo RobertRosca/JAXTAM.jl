{
 "cells": [
  {
   "cell_type": "markdown",
   "metadata": {},
   "source": [
    "# JAXTAM - Just Another X-Ray Timing Module\n",
    "\n",
    "## Walkthrough\n",
    "\n",
    "First, import JAXTAM by calling `using JAXTAM`"
   ]
  },
  {
   "cell_type": "code",
   "execution_count": 1,
   "metadata": {},
   "outputs": [],
   "source": [
    "using JAXTAM"
   ]
  },
  {
   "cell_type": "markdown",
   "metadata": {},
   "source": [
    "Now, the local user configuration needs to be set up."
   ]
  },
  {
   "cell_type": "markdown",
   "metadata": {},
   "source": [
    "## Configuration"
   ]
  },
  {
   "cell_type": "code",
   "execution_count": 2,
   "metadata": {},
   "outputs": [
    {
     "name": "stderr",
     "output_type": "stream",
     "text": [
      "\u001b[1m\u001b[33mWARNING: \u001b[39m\u001b[22m\u001b[33mConfig file not found!\u001b[39m\n",
      "\u001b[1m\u001b[36mINFO: \u001b[39m\u001b[22m\u001b[36mCreating config file at: /home/robert/.julia/v0.6/JAXTAM/user_configs.jld2\n",
      "\u001b[39m"
     ]
    },
    {
     "data": {
      "text/plain": [
       "Dict{Any,Any} with 1 entry:\n",
       "  :_config_edit_date => 2018-07-09T00:34:28.86"
      ]
     },
     "execution_count": 2,
     "metadata": {},
     "output_type": "execute_result"
    }
   ],
   "source": [
    "JAXTAM.config()"
   ]
  },
  {
   "cell_type": "markdown",
   "metadata": {},
   "source": [
    "Add in the missions. Mission configurations are defined by a `MissionDefinition` type:\n",
    "\n",
    "\n",
    "```\n",
    "mutable struct MissionDefinition\n",
    "    name::String\n",
    "    url::String\n",
    "    path::String\n",
    "    path_obs::Function\n",
    "    path_cl::Function\n",
    "    path_uf::Function\n",
    "    path_rmf::String\n",
    "    good_energy_max::Number\n",
    "    good_energy_min::Number\n",
    "    instruments::Array\n",
    "end\n",
    "```\n",
    "\n",
    "These types contain the mission `name`, an `url` to the HEASARC master table for that mission, a `path` to the local folder the data will be stored in, three path functions (`path_obs`, `path_cl`, and `path_uf`) which return the path to the relevant folders/files, given a row from the master table. Functions have to be used for this as some more complex path structures exist, like for NICER which uses the observation date for the folders. Lastly, the mission energy ranges are entered as `good_energy_min` and `good_energy_max`.\n",
    "\n",
    "JAXTAM includes default missions, if a mission name is included in these defaults then only the local `path` is required. This speeds up adding new missions:"
   ]
  },
  {
   "cell_type": "code",
   "execution_count": 3,
   "metadata": {},
   "outputs": [
    {
     "name": "stderr",
     "output_type": "stream",
     "text": [
      "\u001b[1m\u001b[36mINFO: \u001b[39m\u001b[22m\u001b[36mnicer found in defaults\n",
      "Using /media/robert/HVS1/heasrac/nicer/ as path\n",
      "\u001b[39m"
     ]
    },
    {
     "data": {
      "text/plain": [
       "Dict{Any,Any} with 2 entries:\n",
       "  :nicer             => JAXTAM.MissionDefinition(\"nicer\", \"https://heasarc.gsfc…\n",
       "  :_config_edit_date => 2018-07-09T00:34:39.732"
      ]
     },
     "execution_count": 3,
     "metadata": {},
     "output_type": "execute_result"
    }
   ],
   "source": [
    "JAXTAM.config(:nicer, \"/media/robert/HVS1/heasrac/nicer/\")"
   ]
  },
  {
   "cell_type": "code",
   "execution_count": 4,
   "metadata": {},
   "outputs": [
    {
     "name": "stderr",
     "output_type": "stream",
     "text": [
      "\u001b[1m\u001b[36mINFO: \u001b[39m\u001b[22m\u001b[36mnustar found in defaults\n",
      "Using /media/robert/HVS1/heasrac/nustar/ as path\n",
      "\u001b[39m"
     ]
    },
    {
     "data": {
      "text/plain": [
       "Dict{Any,Any} with 3 entries:\n",
       "  :nicer             => JAXTAM.MissionDefinition(\"nicer\", \"https://heasarc.gsfc…\n",
       "  :_config_edit_date => 2018-07-09T00:34:41.57\n",
       "  :nustar            => JAXTAM.MissionDefinition(\"nustar\", \"https://heasarc.gsf…"
      ]
     },
     "execution_count": 4,
     "metadata": {},
     "output_type": "execute_result"
    }
   ],
   "source": [
    "JAXTAM.config(:nustar, \"/media/robert/HVS1/heasrac/nustar/\")"
   ]
  },
  {
   "cell_type": "markdown",
   "metadata": {},
   "source": [
    "A default mission can also be set in the configuration:"
   ]
  },
  {
   "cell_type": "code",
   "execution_count": 5,
   "metadata": {},
   "outputs": [
    {
     "name": "stderr",
     "output_type": "stream",
     "text": [
      "\u001b[1m\u001b[36mINFO: \u001b[39m\u001b[22m\u001b[36mSetting default mission to nicer\n",
      "\u001b[39m"
     ]
    },
    {
     "data": {
      "text/plain": [
       "Dict{Any,Any} with 4 entries:\n",
       "  :nicer             => JAXTAM.MissionDefinition(\"nicer\", \"https://heasarc.gsfc…\n",
       "  :default           => :nicer\n",
       "  :_config_edit_date => 2018-07-09T00:34:43.265\n",
       "  :nustar            => JAXTAM.MissionDefinition(\"nustar\", \"https://heasarc.gsf…"
      ]
     },
     "execution_count": 5,
     "metadata": {},
     "output_type": "execute_result"
    }
   ],
   "source": [
    "JAXTAM.config(:default, :nicer)"
   ]
  },
  {
   "cell_type": "markdown",
   "metadata": {},
   "source": [
    "Removing missions is simple and can be done with `config_rm(mission_name`."
   ]
  },
  {
   "cell_type": "markdown",
   "metadata": {},
   "source": [
    "## Master Tables\n",
    "\n",
    "As the url to the master table is included in the mission definitions, downloading the master tables is simple:"
   ]
  },
  {
   "cell_type": "code",
   "execution_count": 6,
   "metadata": {},
   "outputs": [
    {
     "name": "stderr",
     "output_type": "stream",
     "text": [
      "\u001b[1m\u001b[33mWARNING: \u001b[39m\u001b[22m\u001b[33mNo master file found, looked for: \n",
      "\t/media/robert/HVS1/heasrac/nicer/master.tdat \n",
      "\t/media/robert/HVS1/heasrac/nicer/master.jld2\u001b[39m\n",
      "\u001b[1m\u001b[36mINFO: \u001b[39m\u001b[22m\u001b[36mDownload master files from `https://heasarc.gsfc.nasa.gov/FTP/heasarc/dbase/tdat_files/heasarc_nicermastr.tdat.gz`? (y/n)\n",
      "\u001b[39m\u001b[1m\u001b[36mINFO: \u001b[39m\u001b[22m\u001b[36mDownloading latest master catalog\n",
      "\u001b[39m  % Total    % Received % Xferd  Average Speed   Time    Time     Time  Current\n",
      "                                 Dload  Upload   Total   Spent    Left  Speed\n",
      "100  360k  100  360k    0     0   238k      0  0:00:01  0:00:01 --:--:--  238k\n"
     ]
    },
    {
     "name": "stdout",
     "output_type": "stream",
     "text": [
      "\n",
      "7-Zip [64] 9.20  Copyright (c) 1999-2010 Igor Pavlov  2010-11-18\n",
      "p7zip Version 9.20 (locale=en_GB.UTF-8,Utf16=on,HugeFiles=on,4 CPUs)\n",
      "\n",
      "Processing archive: /media/robert/HVS1/heasrac/nicer/master.tdat\n",
      "\n",
      "Extracting  master\n",
      "\n",
      "Everything is Ok\n",
      "\n",
      "Size:       2750208\n",
      "Compressed: 369659\n"
     ]
    },
    {
     "name": "stderr",
     "output_type": "stream",
     "text": [
      "\u001b[1m\u001b[36mINFO: \u001b[39m\u001b[22m\u001b[36mLoading /media/robert/HVS1/heasrac/nicer/master.tdat\n",
      "\u001b[39m\u001b[1m\u001b[36mINFO: \u001b[39m\u001b[22m\u001b[36mSaving /media/robert/HVS1/heasrac/nicer/master.jld2\n",
      "\u001b[39m"
     ]
    },
    {
     "data": {
      "text/html": [
       "<table class=\"data-frame\"><thead><tr><th></th><th>name</th><th>ra</th><th>dec</th><th>lii</th><th>bii</th><th>time</th><th>end_time</th><th>obsid</th><th>exposure</th><th>time_awarded</th><th>num_fpm</th><th>processing_status</th><th>processing_date</th><th>public_date</th><th>processing_version</th><th>num_processed</th><th>caldb_version</th><th>software_version</th><th>prnb</th><th>abstract</th><th>subject_category</th><th>category_code</th><th>pi_lname</th><th>pi_fname</th><th>cycle</th><th>obs_type</th><th>title</th><th>remarks</th></tr></thead><tbody><tr><th>1</th><td>1E_0102.2-7219</td><td>15.98982</td><td>-72.064019999999999</td><td>301.56842509000001</td><td>-45.031067120000003</td><td>2017-06-19T19:01:25</td><td>2017-06-19T19:13:02</td><td>0010010101</td><td>3.0</td><td>0.0</td><td>52</td><td>PROCESSED</td><td>2018-03-02T21:41:19</td><td>2099-12-31T00:00:00</td><td>l0-master_20180226</td><td>3</td><td>xti20180226</td><td>Hea_10Oct2017_V6.22.1_NICER_2018-03-01_V003</td><td>0010</td><td>Observations of general NICER calibration</td><td>CAL</td><td>1</td><td>GENDREAU</td><td>KEITH C.</td><td>0</td><td>CAL</td><td>CALIBRATION</td><td>missing</td></tr><tr><th>2</th><td>1E_0102.2-7219</td><td>16.015969999999999</td><td>-72.062550000000002</td><td>301.55691327</td><td>-45.031977480000002</td><td>2017-06-22T00:42:42</td><td>2017-06-22T08:39:55</td><td>0010010104</td><td>3.0</td><td>0.0</td><td>52</td><td>PROCESSED</td><td>2018-03-02T21:50:08</td><td>2099-12-31T00:00:00</td><td>l0-master_20180226</td><td>3</td><td>xti20180226</td><td>Hea_10Oct2017_V6.22.1_NICER_2018-03-01_V003</td><td>0010</td><td>Observations of general NICER calibration</td><td>CAL</td><td>1</td><td>GENDREAU</td><td>KEITH C.</td><td>0</td><td>CAL</td><td>CALIBRATION</td><td>missing</td></tr></tbody></table>"
      ],
      "text/plain": [
       "2×28 DataFrames.DataFrame. Omitted printing of 25 columns\n",
       "│ Row │ name           │ ra                 │ dec                 │\n",
       "├─────┼────────────────┼────────────────────┼─────────────────────┤\n",
       "│ 1   │ 1E_0102.2-7219 │ 15.98982           │ -72.064019999999999 │\n",
       "│ 2   │ 1E_0102.2-7219 │ 16.015969999999999 │ -72.062550000000002 │"
      ]
     },
     "execution_count": 6,
     "metadata": {},
     "output_type": "execute_result"
    }
   ],
   "source": [
    "JAXTAM.master(:nicer)[1:2, :]"
   ]
  },
  {
   "cell_type": "markdown",
   "metadata": {},
   "source": [
    "Once the table has been downloaded, repeated calls to `master` will use the current version of the table. To update the table, simply call `master_update`"
   ]
  },
  {
   "cell_type": "markdown",
   "metadata": {},
   "source": [
    "### Append Table\n",
    "\n",
    "For sanity, the master table is not modified (apart from dates being converted from MJD to the standard yyyy-mm-ddThh:mm:ss format), so an `append` table is used to store new variables."
   ]
  },
  {
   "cell_type": "code",
   "execution_count": 7,
   "metadata": {},
   "outputs": [
    {
     "name": "stderr",
     "output_type": "stream",
     "text": [
      "\u001b[1m\u001b[36mINFO: \u001b[39m\u001b[22m\u001b[36mUsing default mission - nicer\n",
      "\u001b[39m\u001b[1m\u001b[36mINFO: \u001b[39m\u001b[22m\u001b[36mLoading /media/robert/HVS1/heasrac/nicer/master.jld2\n",
      "\u001b[39m\u001b[1m\u001b[36mINFO: \u001b[39m\u001b[22m\u001b[36mSaving /media/robert/HVS1/heasrac/nicer/append.jld2\n",
      "\u001b[39m"
     ]
    },
    {
     "data": {
      "text/html": [
       "<table class=\"data-frame\"><thead><tr><th></th><th>obsid</th><th>publicity</th><th>obs_path</th><th>event_uf</th><th>event_cl</th><th>downloaded</th></tr></thead><tbody><tr><th>1</th><td>0010010101</td><td>false</td><td>/media/robert/HVS1/heasrac/nicer/nicer_archive/nicer_201706a/obs/2017_06/0010010101</td><td>(\"/media/robert/HVS1/heasrac/nicer/nicer_archive/nicer_201706a/obs/2017_06/0010010101/xti/event_uf/ni0010010101_0mpu0_uf.evt\", \"/media/robert/HVS1/heasrac/nicer/nicer_archive/nicer_201706a/obs/2017_06/0010010101/xti/event_uf/ni0010010101_0mpu1_uf.evt\", \"/media/robert/HVS1/heasrac/nicer/nicer_archive/nicer_201706a/obs/2017_06/0010010101/xti/event_uf/ni0010010101_0mpu2_uf.evt\", \"/media/robert/HVS1/heasrac/nicer/nicer_archive/nicer_201706a/obs/2017_06/0010010101/xti/event_uf/ni0010010101_0mpu3_uf.evt\", \"/media/robert/HVS1/heasrac/nicer/nicer_archive/nicer_201706a/obs/2017_06/0010010101/xti/event_uf/ni0010010101_0mpu4_uf.evt\", \"/media/robert/HVS1/heasrac/nicer/nicer_archive/nicer_201706a/obs/2017_06/0010010101/xti/event_uf/ni0010010101_0mpu5_uf.evt\", \"/media/robert/HVS1/heasrac/nicer/nicer_archive/nicer_201706a/obs/2017_06/0010010101/xti/event_uf/ni0010010101_0mpu6_uf.evt\")</td><td>(\"/media/robert/HVS1/heasrac/nicer/nicer_archive/nicer_201706a/obs/2017_06/0010010101/xti/event_cl/ni0010010101_0mpu7_cl.evt\",)</td><td>false</td></tr><tr><th>2</th><td>0010010104</td><td>false</td><td>/media/robert/HVS1/heasrac/nicer/nicer_archive/nicer_201706a/obs/2017_06/0010010104</td><td>(\"/media/robert/HVS1/heasrac/nicer/nicer_archive/nicer_201706a/obs/2017_06/0010010104/xti/event_uf/ni0010010104_0mpu0_uf.evt\", \"/media/robert/HVS1/heasrac/nicer/nicer_archive/nicer_201706a/obs/2017_06/0010010104/xti/event_uf/ni0010010104_0mpu1_uf.evt\", \"/media/robert/HVS1/heasrac/nicer/nicer_archive/nicer_201706a/obs/2017_06/0010010104/xti/event_uf/ni0010010104_0mpu2_uf.evt\", \"/media/robert/HVS1/heasrac/nicer/nicer_archive/nicer_201706a/obs/2017_06/0010010104/xti/event_uf/ni0010010104_0mpu3_uf.evt\", \"/media/robert/HVS1/heasrac/nicer/nicer_archive/nicer_201706a/obs/2017_06/0010010104/xti/event_uf/ni0010010104_0mpu4_uf.evt\", \"/media/robert/HVS1/heasrac/nicer/nicer_archive/nicer_201706a/obs/2017_06/0010010104/xti/event_uf/ni0010010104_0mpu5_uf.evt\", \"/media/robert/HVS1/heasrac/nicer/nicer_archive/nicer_201706a/obs/2017_06/0010010104/xti/event_uf/ni0010010104_0mpu6_uf.evt\")</td><td>(\"/media/robert/HVS1/heasrac/nicer/nicer_archive/nicer_201706a/obs/2017_06/0010010104/xti/event_cl/ni0010010104_0mpu7_cl.evt\",)</td><td>false</td></tr></tbody></table>"
      ],
      "text/plain": [
       "2×6 DataFrames.DataFrame. Omitted printing of 4 columns\n",
       "│ Row │ obsid      │ publicity │\n",
       "├─────┼────────────┼───────────┤\n",
       "│ 1   │ 0010010101 │ false     │\n",
       "│ 2   │ 0010010104 │ false     │"
      ]
     },
     "execution_count": 7,
     "metadata": {},
     "output_type": "execute_result"
    }
   ],
   "source": [
    "JAXTAM.append()[1:2, :]"
   ]
  },
  {
   "cell_type": "markdown",
   "metadata": {},
   "source": [
    "The append table contains file and folder paths for each observation, which are found using the path functions contained in the mission definition, as well as a publicity flag and a downloaded flag. This table can easily be expanded on as required.\n",
    "\n",
    "To automatically load a joined version of the master and append tables, call `master_a()`."
   ]
  },
  {
   "cell_type": "markdown",
   "metadata": {},
   "source": [
    "### Master Query\n",
    "\n",
    "For utility, a generic query function exists, allowing users to search for specific column values within the master and append tables."
   ]
  },
  {
   "cell_type": "code",
   "execution_count": 8,
   "metadata": {},
   "outputs": [
    {
     "name": "stderr",
     "output_type": "stream",
     "text": [
      "\u001b[1m\u001b[36mINFO: \u001b[39m\u001b[22m\u001b[36mLoading /media/robert/HVS1/heasrac/nicer/master.jld2\n",
      "\u001b[39m"
     ]
    }
   ],
   "source": [
    "master_df = JAXTAM.master(:nicer);"
   ]
  },
  {
   "cell_type": "code",
   "execution_count": 9,
   "metadata": {},
   "outputs": [
    {
     "data": {
      "text/html": [
       "<table class=\"data-frame\"><thead><tr><th></th><th>name</th><th>ra</th><th>dec</th><th>lii</th><th>bii</th><th>time</th><th>end_time</th><th>obsid</th><th>exposure</th><th>time_awarded</th><th>num_fpm</th><th>processing_status</th><th>processing_date</th><th>public_date</th><th>processing_version</th><th>num_processed</th><th>caldb_version</th><th>software_version</th><th>prnb</th><th>abstract</th><th>subject_category</th><th>category_code</th><th>pi_lname</th><th>pi_fname</th><th>cycle</th><th>obs_type</th><th>title</th><th>remarks</th></tr></thead><tbody><tr><th>1</th><td>1E_0102.2-7219</td><td>16.009440000000001</td><td>-72.031440000000003</td><td>301.55670425</td><td>-45.063152170000002</td><td>2017-12-03T17:09:18</td><td>2017-12-03T18:52:00</td><td>1010010128</td><td>72.0</td><td>60000.0</td><td>52</td><td>VALIDATED</td><td>2018-03-03T03:38:41</td><td>2018-03-04T00:00:00</td><td>l0-master_20180226</td><td>3</td><td>xti20180226</td><td>Hea_10Oct2017_V6.22.1_NICER_2018-03-01_V003</td><td>1010</td><td>Observations of general NICER calibration</td><td>CAL</td><td>1</td><td>GENDREAU</td><td>KEITH C.</td><td>1</td><td>CAL</td><td>CALIBRATION</td><td>missing</td></tr></tbody></table>"
      ],
      "text/plain": [
       "1×28 DataFrames.DataFrame. Omitted printing of 25 columns\n",
       "│ Row │ name           │ ra                 │ dec                 │\n",
       "├─────┼────────────────┼────────────────────┼─────────────────────┤\n",
       "│ 1   │ 1E_0102.2-7219 │ 16.009440000000001 │ -72.031440000000003 │"
      ]
     },
     "execution_count": 9,
     "metadata": {},
     "output_type": "execute_result"
    }
   ],
   "source": [
    "JAXTAM.master_query(master_df, :obsid, \"1010010128\")"
   ]
  },
  {
   "cell_type": "code",
   "execution_count": 10,
   "metadata": {},
   "outputs": [
    {
     "data": {
      "text/html": [
       "<table class=\"data-frame\"><thead><tr><th></th><th>name</th><th>ra</th><th>dec</th><th>lii</th><th>bii</th><th>time</th><th>end_time</th><th>obsid</th><th>exposure</th><th>time_awarded</th><th>num_fpm</th><th>processing_status</th><th>processing_date</th><th>public_date</th><th>processing_version</th><th>num_processed</th><th>caldb_version</th><th>software_version</th><th>prnb</th><th>abstract</th><th>subject_category</th><th>category_code</th><th>pi_lname</th><th>pi_fname</th><th>cycle</th><th>obs_type</th><th>title</th><th>remarks</th></tr></thead><tbody><tr><th>1</th><td>1E_1048.1-5937</td><td>162.52000000000001</td><td>-59.921030000000002</td><td>288.26640995999998</td><td>-0.55070085999999996</td><td>2017-06-22T17:19:29</td><td>2017-06-22T22:25:42</td><td>0020240101</td><td>0.0</td><td>0.0</td><td>52</td><td>PROCESSED</td><td>2018-03-03T05:15:30</td><td>2099-12-31T00:00:00</td><td>l0-master_20180226</td><td>2</td><td>xti20180226</td><td>Hea_10Oct2017_V6.22.1_NICER_2018-03-01_V003</td><td>0020</td><td>Observations dedicated to the Magnetar science working group</td><td>MAGNETAR</td><td>2</td><td>GENDREAU</td><td>KEITH C.</td><td>0</td><td>NOR</td><td>MAGNETAR WORKING GROUP</td><td>missing</td></tr><tr><th>2</th><td>1E_1048.1-5937</td><td>162.54390000000001</td><td>-59.890210000000003</td><td>288.26326461000002</td><td>-0.51778281000000004</td><td>2018-01-30T14:50:43</td><td>2018-01-30T15:14:04</td><td>1020240126</td><td>729.0</td><td>60000.0</td><td>52</td><td>VALIDATED</td><td>2018-03-05T12:33:49</td><td>2018-03-04T00:00:00</td><td>l0-master_20180226</td><td>4</td><td>xti20180226</td><td>Hea_10Oct2017_V6.22.1_NICER_2018-03-01_V003</td><td>1020</td><td>Observations dedicated to the Magnetar science working group</td><td>MAGNETAR</td><td>2</td><td>GENDREAU</td><td>KEITH C.</td><td>1</td><td>NOR</td><td>MAGNETAR WORKING GROUP</td><td>missing</td></tr></tbody></table>"
      ],
      "text/plain": [
       "2×28 DataFrames.DataFrame. Omitted printing of 25 columns\n",
       "│ Row │ name           │ ra                 │ dec                 │\n",
       "├─────┼────────────────┼────────────────────┼─────────────────────┤\n",
       "│ 1   │ 1E_1048.1-5937 │ 162.52000000000001 │ -59.921030000000002 │\n",
       "│ 2   │ 1E_1048.1-5937 │ 162.54390000000001 │ -59.890210000000003 │"
      ]
     },
     "execution_count": 10,
     "metadata": {},
     "output_type": "execute_result"
    }
   ],
   "source": [
    "JAXTAM.master_query(master_df, :subject_category, \"MAGNETAR\")[1:2, :]"
   ]
  },
  {
   "cell_type": "markdown",
   "metadata": {},
   "source": [
    "Public only query functions are also available, in this case we see NICER has 5850 public observations."
   ]
  },
  {
   "cell_type": "code",
   "execution_count": 11,
   "metadata": {},
   "outputs": [
    {
     "name": "stderr",
     "output_type": "stream",
     "text": [
      "\u001b[1m\u001b[36mINFO: \u001b[39m\u001b[22m\u001b[36mLoading /media/robert/HVS1/heasrac/nicer/master.jld2\n",
      "\u001b[39m\u001b[1m\u001b[36mINFO: \u001b[39m\u001b[22m\u001b[36mLoading /media/robert/HVS1/heasrac/nicer/append.jld2\n",
      "\u001b[39m"
     ]
    },
    {
     "data": {
      "text/plain": [
       "(5906, 33)"
      ]
     },
     "execution_count": 11,
     "metadata": {},
     "output_type": "execute_result"
    }
   ],
   "source": [
    "size(JAXTAM.master_query_public(:nicer))"
   ]
  },
  {
   "cell_type": "code",
   "execution_count": 12,
   "metadata": {},
   "outputs": [
    {
     "data": {
      "text/plain": [
       "(1368, 28)"
      ]
     },
     "execution_count": 12,
     "metadata": {},
     "output_type": "execute_result"
    }
   ],
   "source": [
    "size(JAXTAM.master_query_public(master_df, :subject_category, \"MAGNETAR\"))"
   ]
  },
  {
   "cell_type": "markdown",
   "metadata": {},
   "source": [
    "With 1353 of them being magnetars."
   ]
  },
  {
   "cell_type": "markdown",
   "metadata": {},
   "source": [
    "## Downloading Observations\n",
    "\n",
    "Downloading observations is made to be simple and intuitive, simply give an observation ID and the observation will be downloaded, respecting the FTP folder structure, into the mission path specified in the configuration file:"
   ]
  },
  {
   "cell_type": "code",
   "execution_count": 13,
   "metadata": {},
   "outputs": [
    {
     "name": "stderr",
     "output_type": "stream",
     "text": [
      "\u001b[1m\u001b[36mINFO: \u001b[39m\u001b[22m\u001b[36mLoading /media/robert/HVS1/heasrac/nicer/master.jld2\n",
      "\u001b[39m\u001b[1m\u001b[36mINFO: \u001b[39m\u001b[22m\u001b[36mheasarc.gsfc.nasa.gov:/.nicer_archive/.nicer_201802a/obs/2018_02/1050080143 --> /media/robert/HVS1/heasrac/nicer/nicer_archive/nicer_201802a/obs/2018_02/1050080143\n",
      "\u001b[39m"
     ]
    },
    {
     "name": "stdout",
     "output_type": "stream",
     "text": [
      "`lftp heasarc.gsfc.nasa.gov -e 'mirror \"/.nicer_archive/.nicer_201802a/obs/2018_02/1050080143\" \"/media/robert/HVS1/heasrac/nicer/nicer_archive/nicer_201802a/obs/2018_02/1050080143\" --parallel=10 --only-newer && exit'`\n"
     ]
    }
   ],
   "source": [
    "JAXTAM.download(:nicer, \"1050080143\")"
   ]
  },
  {
   "cell_type": "markdown",
   "metadata": {},
   "source": [
    "This is done via `lftp` using 10 parallel connections for speed.\n",
    "\n",
    "The download command can be paired with query to queue up multiple downloads, for example downloading all public observations would be:\n",
    "\n",
    "`JAXTAM.download(:nicer, JAXTAM.master_query_public(:nicer)[:obsid])`"
   ]
  },
  {
   "cell_type": "markdown",
   "metadata": {},
   "source": [
    "## Analysis\n",
    "\n",
    "### Reading Observation to Feather\n",
    "\n",
    "Reading an observation in must be done before any analysis is started. This function converts the FITS files into feather ones for faster i/o operations, and stores a few relevant fits comments:"
   ]
  },
  {
   "cell_type": "code",
   "execution_count": 14,
   "metadata": {},
   "outputs": [
    {
     "name": "stderr",
     "output_type": "stream",
     "text": [
      "\u001b[1m\u001b[36mINFO: \u001b[39m\u001b[22m\u001b[36mLoading /media/robert/HVS1/heasrac/nicer/master.jld2\n",
      "\u001b[39m\u001b[1m\u001b[36mINFO: \u001b[39m\u001b[22m\u001b[36mLoading /media/robert/HVS1/heasrac/nicer/append.jld2\n",
      "\u001b[39m\u001b[1m\u001b[36mINFO: \u001b[39m\u001b[22m\u001b[36mFound: /media/robert/HVS1/heasrac/nicer/nicer_archive/nicer_201802a/obs/2018_02/1050080143/xti/event_cl/ni1050080143_0mpu7_cl.evt.gz\n",
      "\u001b[39m"
     ]
    },
    {
     "name": "stdout",
     "output_type": "stream",
     "text": [
      "\n"
     ]
    },
    {
     "name": "stderr",
     "output_type": "stream",
     "text": [
      "\u001b[1m\u001b[36mINFO: \u001b[39m\u001b[22m\u001b[36mFound 1 file(s) for 1050080143\n",
      "\u001b[39m\u001b[1m\u001b[36mINFO: \u001b[39m\u001b[22m\u001b[36mLoading /media/robert/HVS1/heasrac/nicer/nicer_archive/nicer_201802a/obs/2018_02/1050080143/xti/event_cl/ni1050080143_0mpu7_cl.evt.gz\n",
      "\u001b[39m\u001b[1m\u001b[33mWARNING: \u001b[39m\u001b[22m\u001b[33mEVENT_FLAGS not supported by FITSIO, skipped\u001b[39m\n"
     ]
    },
    {
     "name": "stdout",
     "output_type": "stream",
     "text": [
      "\n",
      "\n"
     ]
    },
    {
     "name": "stderr",
     "output_type": "stream",
     "text": [
      "\u001b[1m\u001b[36mINFO: \u001b[39m\u001b[22m\u001b[36mSaving XTI\n",
      "\u001b[39m"
     ]
    },
    {
     "data": {
      "text/plain": [
       "Dict{Symbol,JAXTAM.InstrumentData} with 1 entry:\n",
       "  :XTI => JAXTAM.InstrumentData(:nicer, :XTI, \"1050080143\", 409032×13 DataFrame…"
      ]
     },
     "execution_count": 14,
     "metadata": {},
     "output_type": "execute_result"
    }
   ],
   "source": [
    "instrument_data = JAXTAM.read_cl(:nicer, \"1050080143\")"
   ]
  },
  {
   "cell_type": "markdown",
   "metadata": {},
   "source": [
    "The observations are stored in a dictionary, with instruments as the dictionary key. This is done to simplify the cases where a mission has multiple instruments, such as NuSTAR:"
   ]
  },
  {
   "cell_type": "code",
   "execution_count": 15,
   "metadata": {},
   "outputs": [
    {
     "name": "stderr",
     "output_type": "stream",
     "text": [
      "\u001b[1m\u001b[36mINFO: \u001b[39m\u001b[22m\u001b[36mLoading /media/robert/HVS1/heasrac/nustar/master.jld2\n",
      "\u001b[39m\u001b[1m\u001b[36mINFO: \u001b[39m\u001b[22m\u001b[36mLoading /media/robert/HVS1/heasrac/nustar/append.jld2\n",
      "\u001b[39m\u001b[1m\u001b[36mINFO: \u001b[39m\u001b[22m\u001b[36mLoading 10002008001: FPMA from /media/robert/HVS1/heasrac/nustar/nustar/nustar_archive/10002008001/JAXTAM/\n",
      "\u001b[39m\u001b[1m\u001b[36mINFO: \u001b[39m\u001b[22m\u001b[36mLoading 10002008001: FPMB from /media/robert/HVS1/heasrac/nustar/nustar/nustar_archive/10002008001/JAXTAM/\n",
      "\u001b[39m"
     ]
    },
    {
     "data": {
      "text/plain": [
       "Dict{Symbol,JAXTAM.InstrumentData} with 2 entries:\n",
       "  :FPMB => JAXTAM.InstrumentData(:nustar, :FPMB, \"10002008001\", 524403×27 DataF…\n",
       "  :FPMA => JAXTAM.InstrumentData(:nustar, :FPMA, \"10002008001\", 571026×27 DataF…"
      ]
     },
     "execution_count": 15,
     "metadata": {},
     "output_type": "execute_result"
    }
   ],
   "source": [
    "JAXTAM.read_cl(:nustar, \"10002008001\")"
   ]
  },
  {
   "cell_type": "markdown",
   "metadata": {},
   "source": [
    "The data is stored in an `InstrumentData` type, which currently contains:\n",
    "\n",
    "```\n",
    "struct InstrumentData\n",
    "    mission::Symbol\n",
    "    instrument::Symbol\n",
    "    obsid::String\n",
    "    events::DataFrame\n",
    "    gtis::DataFrame\n",
    "    start::Number\n",
    "    stop::Number\n",
    "    header::DataFrame\n",
    "end\n",
    "```\n",
    "\n",
    "Where `header` is the full FITS header for the primary (0th) HDU.\n",
    "\n",
    "As an example, `InstrumentData` looks like:"
   ]
  },
  {
   "cell_type": "code",
   "execution_count": 16,
   "metadata": {},
   "outputs": [
    {
     "data": {
      "text/plain": [
       "JAXTAM.InstrumentData(:nicer, :XTI, \"1050080143\", 409032×13 DataFrames.DataFrame. Omitted printing of 6 columns\n",
       "│ Row    │ TIME      │ RAWX │ RAWY │ PHA  │ PHA_FAST │ DET_ID │ DEADTIME   │\n",
       "├────────┼───────────┼──────┼──────┼──────┼──────────┼────────┼────────────┤\n",
       "│ 1      │ 1.28963e8 │ 0x05 │ 0x03 │ 398  │ 422      │ 0x17   │ 2.26373f-5 │\n",
       "│ 2      │ 1.28963e8 │ 0x02 │ 0x01 │ 636  │ 635      │ 0x24   │ 2.26373f-5 │\n",
       "│ 3      │ 1.28963e8 │ 0x03 │ 0x05 │ 531  │ 612      │ 0x29   │ 2.26373f-5 │\n",
       "│ 4      │ 1.28963e8 │ 0x02 │ 0x03 │ 868  │ 754      │ 0x35   │ 2.26373f-5 │\n",
       "│ 5      │ 1.28963e8 │ 0x06 │ 0x03 │ 1387 │ 1297     │ 0x0d   │ 2.26373f-5 │\n",
       "│ 6      │ 1.28963e8 │ 0x06 │ 0x03 │ 732  │ 685      │ 0x0d   │ 2.26373f-5 │\n",
       "│ 7      │ 1.28963e8 │ 0x05 │ 0x05 │ 1100 │ 1000     │ 0x15   │ 2.26373f-5 │\n",
       "│ 8      │ 1.28963e8 │ 0x01 │ 0x00 │ 1417 │ 1325     │ 0x2f   │ 2.26373f-5 │\n",
       "│ 9      │ 1.28963e8 │ 0x06 │ 0x00 │ 568  │ 570      │ 0x07   │ 2.26373f-5 │\n",
       "│ 10     │ 1.28963e8 │ 0x04 │ 0x00 │ 767  │ 730      │ 0x11   │ 2.26373f-5 │\n",
       "│ 11     │ 1.28963e8 │ 0x03 │ 0x02 │ 553  │ 530      │ 0x2c   │ 2.26373f-5 │\n",
       "⋮\n",
       "│ 409021 │ 1.28964e8 │ 0x04 │ 0x02 │ 710  │ 619      │ 0x22   │ 5.11665f-5 │\n",
       "│ 409022 │ 1.28964e8 │ 0x02 │ 0x04 │ 404  │ -32768   │ 0x34   │ 1.51949f-5 │\n",
       "│ 409023 │ 1.28964e8 │ 0x02 │ 0x03 │ 974  │ 853      │ 0x35   │ 2.26373f-5 │\n",
       "│ 409024 │ 1.28964e8 │ 0x03 │ 0x06 │ 694  │ 653      │ 0x28   │ 2.26373f-5 │\n",
       "│ 409025 │ 1.28964e8 │ 0x00 │ 0x06 │ 754  │ 644      │ 0x3d   │ 2.57383f-5 │\n",
       "│ 409026 │ 1.28964e8 │ 0x07 │ 0x03 │ 747  │ 731      │ 0x03   │ 2.26373f-5 │\n",
       "│ 409027 │ 1.28964e8 │ 0x07 │ 0x03 │ 926  │ 904      │ 0x03   │ 2.26373f-5 │\n",
       "│ 409028 │ 1.28964e8 │ 0x02 │ 0x04 │ 872  │ 859      │ 0x34   │ 2.26373f-5 │\n",
       "│ 409029 │ 1.28964e8 │ 0x00 │ 0x05 │ 2040 │ 1956     │ 0x3f   │ 2.26373f-5 │\n",
       "│ 409030 │ 1.28964e8 │ 0x04 │ 0x02 │ 457  │ -32768   │ 0x22   │ 1.51949f-5 │\n",
       "│ 409031 │ 1.28964e8 │ 0x01 │ 0x05 │ 618  │ 628      │ 0x3e   │ 2.26373f-5 │\n",
       "│ 409032 │ 1.28964e8 │ 0x04 │ 0x02 │ 1148 │ 1058     │ 0x22   │ 2.26373f-5 │, 1×2 DataFrames.DataFrame\n",
       "│ Row │ START     │ STOP      │\n",
       "├─────┼───────────┼───────────┤\n",
       "│ 1   │ 1.28963e8 │ 1.28964e8 │, 1.28962686348898e8, 1.28963507760254e8, 1×30 DataFrames.DataFrame. Omitted printing of 23 columns\n",
       "│ Row │ SIMPLE │ BITPIX │ NAXIS │ EXTEND │ COMMENT │ TELESCOP │ INSTRUME │\n",
       "├─────┼────────┼────────┼───────┼────────┼─────────┼──────────┼──────────┤\n",
       "│ 1   │ true   │ 16     │ 0     │ true   │         │ NICER    │ XTI      │)"
      ]
     },
     "execution_count": 16,
     "metadata": {},
     "output_type": "execute_result"
    }
   ],
   "source": [
    "instrument_data[:XTI]"
   ]
  },
  {
   "cell_type": "markdown",
   "metadata": {},
   "source": [
    "### Energy Calibration\n",
    "\n",
    "The PI channels can be converted into energies quite easily (done using the mission rmf path provided in the user config):"
   ]
  },
  {
   "cell_type": "code",
   "execution_count": 17,
   "metadata": {},
   "outputs": [
    {
     "name": "stderr",
     "output_type": "stream",
     "text": [
      "\u001b[1m\u001b[36mINFO: \u001b[39m\u001b[22m\u001b[36mLoading /media/robert/HVS1/heasrac/nicer/master.jld2\n",
      "\u001b[39m\u001b[1m\u001b[36mINFO: \u001b[39m\u001b[22m\u001b[36mLoading /media/robert/HVS1/heasrac/nicer/append.jld2\n",
      "\u001b[39m\u001b[1m\u001b[36mINFO: \u001b[39m\u001b[22m\u001b[36mLoading EVENTS for 1050080143 from /media/robert/HVS1/heasrac/nicer/nicer_archive/nicer_201802a/obs/2018_02/1050080143/JAXTAM/\n",
      "\u001b[39m\u001b[1m\u001b[36mINFO: \u001b[39m\u001b[22m\u001b[36mLoading XTI EVENTS\n",
      "\u001b[39m\u001b[1m\u001b[36mINFO: \u001b[39m\u001b[22m\u001b[36mLoading 1050080143: XTI from /media/robert/HVS1/heasrac/nicer/nicer_archive/nicer_201802a/obs/2018_02/1050080143/JAXTAM/\n",
      "\u001b[39m\u001b[1m\u001b[36mINFO: \u001b[39m\u001b[22m\u001b[36mSaving XTI CALIB energy\n",
      "\u001b[39m"
     ]
    },
    {
     "data": {
      "text/plain": [
       "Dict{Symbol,JAXTAM.InstrumentData} with 1 entry:\n",
       "  :XTI => JAXTAM.InstrumentData(:nicer, :XTI, \"1050080143\", 409032×14 DataFrame…"
      ]
     },
     "execution_count": 17,
     "metadata": {},
     "output_type": "execute_result"
    }
   ],
   "source": [
    "JAXTAM.calibrate(:nicer, \"1050080143\")"
   ]
  },
  {
   "cell_type": "markdown",
   "metadata": {},
   "source": [
    "This simply adds an extra column to the `InstrumentData.events` DataFrame which contains the energy of that event."
   ]
  },
  {
   "cell_type": "markdown",
   "metadata": {},
   "source": [
    "### Light Curves\n",
    "\n",
    "Binning the events into a light curve can be done by:"
   ]
  },
  {
   "cell_type": "code",
   "execution_count": 18,
   "metadata": {},
   "outputs": [
    {
     "name": "stderr",
     "output_type": "stream",
     "text": [
      "\u001b[1m\u001b[36mINFO: \u001b[39m\u001b[22m\u001b[36mLoading /media/robert/HVS1/heasrac/nicer/master.jld2\n",
      "\u001b[39m\u001b[1m\u001b[36mINFO: \u001b[39m\u001b[22m\u001b[36mLoading /media/robert/HVS1/heasrac/nicer/append.jld2\n",
      "\u001b[39m"
     ]
    },
    {
     "data": {
      "text/plain": [
       "Dict{Symbol,JAXTAM.BinnedData} with 1 entry:\n",
       "  :XTI => JAXTAM.BinnedData(:nicer, :XTI, \"1050080143\", 1,   [176]  =  167…"
      ]
     },
     "execution_count": 18,
     "metadata": {},
     "output_type": "execute_result"
    },
    {
     "name": "stderr",
     "output_type": "stream",
     "text": [
      "\u001b[1m\u001b[36mINFO: \u001b[39m\u001b[22m\u001b[36mLoading CALIB 1050080143: from /media/robert/HVS1/heasrac/nicer/nicer_archive/nicer_201802a/obs/2018_02/1050080143/JAXTAM/\n",
      "\u001b[39m\u001b[1m\u001b[36mINFO: \u001b[39m\u001b[22m\u001b[36mLoading XTI CALIB energy\n",
      "\u001b[39m\u001b[1m\u001b[36mINFO: \u001b[39m\u001b[22m\u001b[36mSaving XTI 1s lightcurve data\n",
      "\u001b[39m"
     ]
    }
   ],
   "source": [
    "JAXTAM.lcurve(:nicer, \"1050080143\", 1)"
   ]
  },
  {
   "cell_type": "markdown",
   "metadata": {},
   "source": [
    "With `1` as a 1 sec bin in this case. As before, this computed the lightcurve, saves the files to the disk (or, if files alread exist, reads them), then returns a `BinnedData` type:\n",
    "\n",
    "```\n",
    "struct BinnedData\n",
    "    mission::Symbol\n",
    "    instrument::Symbol\n",
    "    obsid::String\n",
    "    bin_time::Real\n",
    "    counts::SparseVector\n",
    "    times::StepRangeLen\n",
    "    gtis::Array{Float64,2}\n",
    "end\n",
    "```\n",
    "\n",
    "Then, `BinnedData` can be filtered through the GTIs, which will return one (or multiple) `GTIData` types, for each of the valid/accepted GTIs:\n",
    "\n",
    "```\n",
    "struct GTIData\n",
    "    mission::Symbol\n",
    "    instrument::Symbol\n",
    "    obsid::String\n",
    "    bin_time::Real\n",
    "    gti_index::Int\n",
    "    gti_start_time::Real\n",
    "    counts::Array\n",
    "    times::Array\n",
    "end\n",
    "```\n",
    "\n",
    "Again, these are all saved to the disk as well:"
   ]
  },
  {
   "cell_type": "code",
   "execution_count": 19,
   "metadata": {},
   "outputs": [
    {
     "name": "stderr",
     "output_type": "stream",
     "text": [
      "\u001b[1m\u001b[36mINFO: \u001b[39m\u001b[22m\u001b[36mLoading /media/robert/HVS1/heasrac/nicer/master.jld2\n",
      "\u001b[39m\u001b[1m\u001b[36mINFO: \u001b[39m\u001b[22m\u001b[36mLoading /media/robert/HVS1/heasrac/nicer/append.jld2\n",
      "\u001b[39m\u001b[1m\u001b[36mINFO: \u001b[39m\u001b[22m\u001b[36mNot all GTI metas found\n",
      "\u001b[39m\u001b[1m\u001b[36mINFO: \u001b[39m\u001b[22m\u001b[36mLoading LC 1050080143: from /media/robert/HVS1/heasrac/nicer/nicer_archive/nicer_201802a/obs/2018_02/1050080143/JAXTAM/lc/1/\n",
      "\u001b[39m\u001b[1m\u001b[36mINFO: \u001b[39m\u001b[22m\u001b[36mComputing XTI GTIs\n",
      "\u001b[39m\u001b[1m\u001b[36mINFO: \u001b[39m\u001b[22m\u001b[36mOriginal counts: 408974, counts in GTI: 408413, delta: -561 (-0.14 %)\n",
      "\u001b[39m\u001b[1m\u001b[36mINFO: \u001b[39m\u001b[22m\u001b[36mSaving XTI GTIs\n",
      "\u001b[39m"
     ]
    },
    {
     "data": {
      "text/plain": [
       "Dict{Symbol,Dict{Int64,JAXTAM.GTIData}} with 1 entry:\n",
       "  :XTI => Dict(1=>JAXTAM.GTIData(:nicer, :XTI, \"1050080143\", 1.0, 1, 177, [526,…"
      ]
     },
     "execution_count": 19,
     "metadata": {},
     "output_type": "execute_result"
    }
   ],
   "source": [
    "gtis = JAXTAM.gtis(:nicer, \"1050080143\", 1)"
   ]
  },
  {
   "cell_type": "markdown",
   "metadata": {},
   "source": [
    "For generality, a dictionary is returned with each instrument, within that is another dictionary with the index of each GTI (although this might change to a new `GTIContainer` type). So, for the above we have:"
   ]
  },
  {
   "cell_type": "code",
   "execution_count": 20,
   "metadata": {},
   "outputs": [
    {
     "data": {
      "text/plain": [
       "Dict{Int64,JAXTAM.GTIData} with 1 entry:\n",
       "  1 => JAXTAM.GTIData(:nicer, :XTI, \"1050080143\", 1.0, 1, 177, [526, 501, 494, …"
      ]
     },
     "execution_count": 20,
     "metadata": {},
     "output_type": "execute_result"
    }
   ],
   "source": [
    "gtis[:XTI]"
   ]
  },
  {
   "cell_type": "markdown",
   "metadata": {},
   "source": [
    "Which, as a quick demonstration, looks like:"
   ]
  },
  {
   "cell_type": "code",
   "execution_count": 21,
   "metadata": {},
   "outputs": [],
   "source": [
    "using Gaston"
   ]
  },
  {
   "cell_type": "code",
   "execution_count": 22,
   "metadata": {},
   "outputs": [
    {
     "data": {
      "image/png": "[encoded data removed]",
      "text/plain": [
       "Gaston.Figure(1, Gaston.AxesConf(\"\", \"time (s)\", \"counts\", \"\", \"empty\", \"off\", \"inside vertical right top\", \"\", \"[*:*]\", \"[*:*]\", \"[*:*]\", \"\"), Gaston.Curve[Gaston.Curve([0.0, 1.0, 2.0, 3.0, 4.0, 5.0, 6.0, 7.0, 8.0, 9.0  …  633.0, 634.0, 635.0, 636.0, 637.0, 638.0, 639.0, 640.0, 641.0, 642.0], [526, 501, 494, 527, 525, 519, 535, 530, 537, 552  …  596, 572, 587, 609, 565, 607, 589, 600, 599, 608], Real[], Gaston.FinancialCoords(false, Real[], Real[], Real[], Real[]), Gaston.ErrorCoords(false, Real[], Real[]), Gaston.CurveConf(\"\", \"lines\", \"blue\", \"\", 1, \"\", 0.5))], false)"
      ]
     },
     "metadata": {},
     "output_type": "display_data"
    }
   ],
   "source": [
    "plot(gtis[:XTI][1].times, gtis[:XTI][1].counts; xlabel=\"time (s)\", ylabel=\"counts\");"
   ]
  },
  {
   "cell_type": "markdown",
   "metadata": {},
   "source": [
    "Alternatively, we can look at a NuSTAR observation just as easily:"
   ]
  },
  {
   "cell_type": "code",
   "execution_count": 23,
   "metadata": {},
   "outputs": [
    {
     "name": "stderr",
     "output_type": "stream",
     "text": [
      "\u001b[1m\u001b[36mINFO: \u001b[39m\u001b[22m\u001b[36mLoading /media/robert/HVS1/heasrac/nustar/master.jld2\n",
      "\u001b[39m\u001b[1m\u001b[36mINFO: \u001b[39m\u001b[22m\u001b[36mheasarc.gsfc.nasa.gov:/nustar/.nustar_archive/90302319006 --> /media/robert/HVS1/heasrac/nustar/nustar/nustar_archive/90302319006\n",
      "\u001b[39m"
     ]
    },
    {
     "name": "stdout",
     "output_type": "stream",
     "text": [
      "`lftp heasarc.gsfc.nasa.gov -e 'mirror \"/nustar/.nustar_archive/90302319006\" \"/media/robert/HVS1/heasrac/nustar/nustar/nustar_archive/90302319006\" --parallel=10 --only-newer && exit'`\n"
     ]
    }
   ],
   "source": [
    "JAXTAM.download(:nustar, \"90302319006\");"
   ]
  },
  {
   "cell_type": "code",
   "execution_count": 24,
   "metadata": {},
   "outputs": [
    {
     "name": "stderr",
     "output_type": "stream",
     "text": [
      "\u001b[1m\u001b[36mINFO: \u001b[39m\u001b[22m\u001b[36mLoading /media/robert/HVS1/heasrac/nustar/master.jld2\n",
      "\u001b[39m\u001b[1m\u001b[36mINFO: \u001b[39m\u001b[22m\u001b[36mLoading /media/robert/HVS1/heasrac/nustar/append.jld2\n",
      "\u001b[39m\u001b[1m\u001b[36mINFO: \u001b[39m\u001b[22m\u001b[36mFound: /media/robert/HVS1/heasrac/nustar/nustar/nustar_archive/90302319006/event_cl/nu90302319006A01_cl.evt.gz\n",
      "\u001b[39m\u001b[1m\u001b[36mINFO: \u001b[39m\u001b[22m\u001b[36mFound: /media/robert/HVS1/heasrac/nustar/nustar/nustar_archive/90302319006/event_cl/nu90302319006B01_cl.evt.gz\n",
      "\u001b[39m\u001b[1m\u001b[36mINFO: \u001b[39m\u001b[22m\u001b[36mFound 2 file(s) for 90302319006\n",
      "\u001b[39m"
     ]
    },
    {
     "name": "stdout",
     "output_type": "stream",
     "text": [
      "\n",
      "\n"
     ]
    },
    {
     "name": "stderr",
     "output_type": "stream",
     "text": [
      "\u001b[1m\u001b[36mINFO: \u001b[39m\u001b[22m\u001b[36mLoading /media/robert/HVS1/heasrac/nustar/nustar/nustar_archive/90302319006/event_cl/nu90302319006A01_cl.evt.gz\n",
      "\u001b[39m\u001b[1m\u001b[33mWARNING: \u001b[39m\u001b[22m\u001b[33mTRIGGERS not supported by FITSIO, skipped\u001b[39m\n"
     ]
    },
    {
     "name": "stdout",
     "output_type": "stream",
     "text": [
      "\n",
      "\n",
      "\n"
     ]
    },
    {
     "name": "stderr",
     "output_type": "stream",
     "text": [
      "\u001b[1m\u001b[33mWARNING: \u001b[39m\u001b[22m\u001b[33mSTATUS not supported by FITSIO, skipped\u001b[39m\n",
      "\u001b[1m\u001b[33mWARNING: \u001b[39m\u001b[22m\u001b[33mBADPOS not supported by FITSIO, skipped\u001b[39m\n",
      "\u001b[1m\u001b[33mWARNING: \u001b[39m\u001b[22m\u001b[33mHOTPOS not supported by FITSIO, skipped\u001b[39m\n",
      "\u001b[1m\u001b[36mINFO: \u001b[39m\u001b[22m\u001b[36mLoading /media/robert/HVS1/heasrac/nustar/nustar/nustar_archive/90302319006/event_cl/nu90302319006B01_cl.evt.gz\n",
      "\u001b[39m\u001b[1m\u001b[33mWARNING: \u001b[39m\u001b[22m\u001b[33mTRIGGERS not supported by FITSIO, skipped\u001b[39m\n",
      "\u001b[1m\u001b[33mWARNING: \u001b[39m\u001b[22m\u001b[33mSTATUS not supported by FITSIO, skipped\u001b[39m\n",
      "\u001b[1m\u001b[33mWARNING: \u001b[39m\u001b[22m\u001b[33mBADPOS not supported by FITSIO, skipped\u001b[39m\n",
      "\u001b[1m\u001b[33mWARNING: \u001b[39m\u001b[22m\u001b[33mHOTPOS not supported by FITSIO, skipped\u001b[39m\n",
      "\u001b[1m\u001b[36mINFO: \u001b[39m\u001b[22m\u001b[36mSaving FPMB\n",
      "\u001b[39m\u001b[1m\u001b[36mINFO: \u001b[39m\u001b[22m\u001b[36mSaving FPMA\n",
      "\u001b[39m"
     ]
    }
   ],
   "source": [
    "JAXTAM.read_cl(:nustar, \"90302319006\");"
   ]
  },
  {
   "cell_type": "code",
   "execution_count": 25,
   "metadata": {},
   "outputs": [
    {
     "name": "stderr",
     "output_type": "stream",
     "text": [
      "\u001b[1m\u001b[36mINFO: \u001b[39m\u001b[22m\u001b[36mLoading /media/robert/HVS1/heasrac/nustar/master.jld2\n",
      "\u001b[39m\u001b[1m\u001b[36mINFO: \u001b[39m\u001b[22m\u001b[36mLoading /media/robert/HVS1/heasrac/nustar/append.jld2\n",
      "\u001b[39m\u001b[1m\u001b[36mINFO: \u001b[39m\u001b[22m\u001b[36mLoading EVENTS for 90302319006 from /media/robert/HVS1/heasrac/nustar/nustar/nustar_archive/90302319006/JAXTAM/\n",
      "\u001b[39m\u001b[1m\u001b[36mINFO: \u001b[39m\u001b[22m\u001b[36mLoading FPMA EVENTS\n",
      "\u001b[39m\u001b[1m\u001b[36mINFO: \u001b[39m\u001b[22m\u001b[36mLoading 90302319006: FPMA from /media/robert/HVS1/heasrac/nustar/nustar/nustar_archive/90302319006/JAXTAM/\n",
      "\u001b[39m\u001b[1m\u001b[36mINFO: \u001b[39m\u001b[22m\u001b[36mLoading 90302319006: FPMB from /media/robert/HVS1/heasrac/nustar/nustar/nustar_archive/90302319006/JAXTAM/\n",
      "\u001b[39m\u001b[1m\u001b[36mINFO: \u001b[39m\u001b[22m\u001b[36mSaving FPMA CALIB energy\n",
      "\u001b[39m\u001b[1m\u001b[36mINFO: \u001b[39m\u001b[22m\u001b[36mLoading FPMB EVENTS\n",
      "\u001b[39m\u001b[1m\u001b[36mINFO: \u001b[39m\u001b[22m\u001b[36mLoading 90302319006: FPMA from /media/robert/HVS1/heasrac/nustar/nustar/nustar_archive/90302319006/JAXTAM/\n",
      "\u001b[39m\u001b[1m\u001b[36mINFO: \u001b[39m\u001b[22m\u001b[36mLoading 90302319006: FPMB from /media/robert/HVS1/heasrac/nustar/nustar/nustar_archive/90302319006/JAXTAM/\n",
      "\u001b[39m\u001b[1m\u001b[36mINFO: \u001b[39m\u001b[22m\u001b[36mSaving FPMB CALIB energy\n",
      "\u001b[39m"
     ]
    }
   ],
   "source": [
    "JAXTAM.calibrate(:nustar, \"90302319006\");"
   ]
  },
  {
   "cell_type": "code",
   "execution_count": 26,
   "metadata": {},
   "outputs": [
    {
     "name": "stderr",
     "output_type": "stream",
     "text": [
      "\u001b[1m\u001b[36mINFO: \u001b[39m\u001b[22m\u001b[36mLoading /media/robert/HVS1/heasrac/nustar/master.jld2\n",
      "\u001b[39m\u001b[1m\u001b[36mINFO: \u001b[39m\u001b[22m\u001b[36mLoading /media/robert/HVS1/heasrac/nustar/append.jld2\n",
      "\u001b[39m\u001b[1m\u001b[36mINFO: \u001b[39m\u001b[22m\u001b[36mLoading CALIB 90302319006: from /media/robert/HVS1/heasrac/nustar/nustar/nustar_archive/90302319006/JAXTAM/\n",
      "\u001b[39m\u001b[1m\u001b[36mINFO: \u001b[39m\u001b[22m\u001b[36mLoading FPMA CALIB energy\n",
      "\u001b[39m\u001b[1m\u001b[36mINFO: \u001b[39m\u001b[22m\u001b[36mLoading FPMB CALIB energy\n",
      "\u001b[39m\u001b[1m\u001b[36mINFO: \u001b[39m\u001b[22m\u001b[36mSaving FPMA 1s lightcurve data\n",
      "\u001b[39m\u001b[1m\u001b[36mINFO: \u001b[39m\u001b[22m\u001b[36mSaving FPMB 1s lightcurve data\n",
      "\u001b[39m"
     ]
    }
   ],
   "source": [
    "JAXTAM.lcurve(:nustar, \"90302319006\", 1);"
   ]
  },
  {
   "cell_type": "code",
   "execution_count": 27,
   "metadata": {},
   "outputs": [
    {
     "name": "stderr",
     "output_type": "stream",
     "text": [
      "\u001b[1m\u001b[36mINFO: \u001b[39m\u001b[22m\u001b[36mLoading /media/robert/HVS1/heasrac/nustar/master.jld2\n",
      "\u001b[39m\u001b[1m\u001b[36mINFO: \u001b[39m\u001b[22m\u001b[36mLoading /media/robert/HVS1/heasrac/nustar/append.jld2\n",
      "\u001b[39m\u001b[1m\u001b[36mINFO: \u001b[39m\u001b[22m\u001b[36mNot all GTI metas found\n",
      "\u001b[39m\u001b[1m\u001b[36mINFO: \u001b[39m\u001b[22m\u001b[36mLoading LC 90302319006: from /media/robert/HVS1/heasrac/nustar/nustar/nustar_archive/90302319006/JAXTAM/lc/1/\n",
      "\u001b[39m\u001b[1m\u001b[36mINFO: \u001b[39m\u001b[22m\u001b[36mComputing FPMA GTIs\n",
      "\u001b[39m\u001b[1m\u001b[36mINFO: \u001b[39m\u001b[22m\u001b[36mOriginal counts: 2222543, counts in GTI: 2213693, delta: -8850 (-0.4 %)\n",
      "\u001b[39m\u001b[1m\u001b[33mWARNING: \u001b[39m\u001b[22m\u001b[33mExcluded 20 gtis (< 5s) out of 25\u001b[39m\n",
      "\u001b[1m\u001b[36mINFO: \u001b[39m\u001b[22m\u001b[36mSaving FPMA GTIs\n",
      "\u001b[39m\u001b[1m\u001b[36mINFO: \u001b[39m\u001b[22m\u001b[36mComputing FPMB GTIs\n",
      "\u001b[39m\u001b[1m\u001b[36mINFO: \u001b[39m\u001b[22m\u001b[36mOriginal counts: 1583111, counts in GTI: 1576830, delta: -6281 (-0.4 %)\n",
      "\u001b[39m\u001b[1m\u001b[33mWARNING: \u001b[39m\u001b[22m\u001b[33mExcluded 20 gtis (< 5s) out of 25\u001b[39m\n",
      "\u001b[1m\u001b[36mINFO: \u001b[39m\u001b[22m\u001b[36mSaving FPMB GTIs\n",
      "\u001b[39m"
     ]
    },
    {
     "data": {
      "text/plain": [
       "Dict{Symbol,Dict{Int64,JAXTAM.GTIData}} with 2 entries:\n",
       "  :FPMB => Dict(24=>JAXTAM.GTIData(:nustar, :FPMB, \"90302319006\", 1.0, 24, 1066…\n",
       "  :FPMA => Dict(24=>JAXTAM.GTIData(:nustar, :FPMA, \"90302319006\", 1.0, 24, 1066…"
      ]
     },
     "execution_count": 27,
     "metadata": {},
     "output_type": "execute_result"
    }
   ],
   "source": [
    "gtis = JAXTAM.gtis(:nustar, \"90302319006\", 1)"
   ]
  },
  {
   "cell_type": "markdown",
   "metadata": {},
   "source": [
    "Where, unlike with the NICER data, the purpose of the dictionary approach to storage should be clearer. Above we see both NuSTAR instruments in the GTIs dictionary, looking at one instrument we see:"
   ]
  },
  {
   "cell_type": "code",
   "execution_count": 28,
   "metadata": {},
   "outputs": [
    {
     "data": {
      "text/plain": [
       "Dict{Int64,JAXTAM.GTIData} with 5 entries:\n",
       "  24 => JAXTAM.GTIData(:nustar, :FPMA, \"90302319006\", 1.0, 24, 10663, [280, 271…\n",
       "  4  => JAXTAM.GTIData(:nustar, :FPMA, \"90302319006\", 1.0, 4, 7439, [265, 274, …\n",
       "  2  => JAXTAM.GTIData(:nustar, :FPMA, \"90302319006\", 1.0, 2, 4833, [251, 235, …\n",
       "  11 => JAXTAM.GTIData(:nustar, :FPMA, \"90302319006\", 1.0, 11, 10637, [268, 270…\n",
       "  1  => JAXTAM.GTIData(:nustar, :FPMA, \"90302319006\", 1.0, 1, 1, [246, 256, 268…"
      ]
     },
     "execution_count": 28,
     "metadata": {},
     "output_type": "execute_result"
    }
   ],
   "source": [
    "gtis[:FPMA]"
   ]
  },
  {
   "cell_type": "markdown",
   "metadata": {},
   "source": [
    "Some simple analysis can be performed elegantly with this approach:"
   ]
  },
  {
   "cell_type": "code",
   "execution_count": 29,
   "metadata": {},
   "outputs": [
    {
     "data": {
      "text/plain": [
       "5-element Array{Int64,1}:\n",
       " 736094\n",
       " 174250\n",
       " 687872\n",
       "   4217\n",
       " 611260"
      ]
     },
     "execution_count": 29,
     "metadata": {},
     "output_type": "execute_result"
    }
   ],
   "source": [
    "[sum(gti.counts) for gti in values(gtis[:FPMA])]"
   ]
  },
  {
   "cell_type": "markdown",
   "metadata": {},
   "source": [
    "Or even:"
   ]
  },
  {
   "cell_type": "code",
   "execution_count": 30,
   "metadata": {},
   "outputs": [
    {
     "data": {
      "text/plain": [
       "5-element Array{Float64,1}:\n",
       " 263.55 \n",
       " 265.625\n",
       " 264.668\n",
       " 281.133\n",
       " 266.344"
      ]
     },
     "execution_count": 30,
     "metadata": {},
     "output_type": "execute_result"
    }
   ],
   "source": [
    "[sum(gti.counts)/gti.times[end] for gti in values(gtis[:FPMA])]"
   ]
  },
  {
   "cell_type": "markdown",
   "metadata": {},
   "source": [
    "So, we see a roughly constant count rate. Now:"
   ]
  },
  {
   "cell_type": "code",
   "execution_count": 31,
   "metadata": {},
   "outputs": [
    {
     "data": {
      "image/png": "[encoded data removed]",
      "text/plain": [
       "Gaston.Figure(1, Gaston.AxesConf(\"\", \"time (s)\", \"counts\", \"\", \"empty\", \"off\", \"inside vertical right top\", \"\", \"[*:*]\", \"[*:*]\", \"[*:*]\", \"\"), Gaston.Curve[Gaston.Curve([0.0, 1.0, 2.0, 3.0, 4.0, 5.0, 6.0, 7.0, 8.0, 9.0  …  2784.0, 2785.0, 2786.0, 2787.0, 2788.0, 2789.0, 2790.0, 2791.0, 2792.0, 2793.0], [280, 271, 261, 284, 279, 266, 242, 242, 265, 285  …  259, 267, 249, 250, 264, 248, 269, 269, 237, 256], Real[], Gaston.FinancialCoords(false, Real[], Real[], Real[], Real[]), Gaston.ErrorCoords(false, Real[], Real[]), Gaston.CurveConf(\"\", \"lines\", \"blue\", \"\", 1, \"\", 0.5))], false)"
      ]
     },
     "metadata": {},
     "output_type": "display_data"
    }
   ],
   "source": [
    "plot(gtis[:FPMA][24].times, gtis[:FPMA][24].counts; xlabel=\"time (s)\", ylabel=\"counts\");"
   ]
  },
  {
   "cell_type": "markdown",
   "metadata": {},
   "source": [
    "For some basic timing analysis:"
   ]
  },
  {
   "cell_type": "code",
   "execution_count": 35,
   "metadata": {},
   "outputs": [],
   "source": [
    "using DSP"
   ]
  },
  {
   "cell_type": "code",
   "execution_count": 37,
   "metadata": {},
   "outputs": [],
   "source": [
    "gti_fft   = abs.(rfft(gtis[:FPMA][24].counts));\n",
    "gti_fft_t = DSP.Util.rfftfreq(length(gtis[:FPMA][24].counts), 1/gtis[:FPMA][24].bin_time);"
   ]
  },
  {
   "cell_type": "code",
   "execution_count": 48,
   "metadata": {},
   "outputs": [
    {
     "data": {
      "image/png": "[encoded data removed]",
      "text/plain": [
       "Gaston.Figure(1, Gaston.AxesConf(\"\", \"freq (Hz)\", \"power\", \"\", \"empty\", \"off\", \"inside vertical right top\", \"\", \"[*:*]\", \"[*:*]\", \"[*:*]\", \"\"), Gaston.Curve[Gaston.Curve([0.00035791, 0.00071582, 0.00107373, 0.00143164, 0.00178955, 0.00214746, 0.00250537, 0.00286328, 0.00322119, 0.0035791  …  0.496779, 0.497137, 0.497495, 0.497853, 0.49821, 0.498568, 0.498926, 0.499284, 0.499642, 0.5], [2090.27, 1042.33, 2517.04, 168.685, 993.85, 1723.8, 1702.78, 1238.09, 1517.67, 439.163  …  242.82, 544.917, 243.012, 502.601, 582.019, 620.742, 1066.83, 613.635, 881.064, 1160.0], Real[], Gaston.FinancialCoords(false, Real[], Real[], Real[], Real[]), Gaston.ErrorCoords(false, Real[], Real[]), Gaston.CurveConf(\"\", \"lines\", \"blue\", \"\", 1, \"\", 0.5))], false)"
      ]
     },
     "metadata": {},
     "output_type": "display_data"
    }
   ],
   "source": [
    "plot(Array(gti_fft_t)[2:end], gti_fft[2:end]; xlabel=\"freq (Hz)\", ylabel=\"power\");"
   ]
  },
  {
   "cell_type": "markdown",
   "metadata": {},
   "source": [
    "FFT functions are still being implemented."
   ]
  }
 ],
 "metadata": {
  "kernelspec": {
   "display_name": "Julia 0.6.3",
   "language": "julia",
   "name": "julia-0.6"
  },
  "language_info": {
   "file_extension": ".jl",
   "mimetype": "application/julia",
   "name": "julia",
   "version": "0.6.3"
  }
 },
 "nbformat": 4,
 "nbformat_minor": 2
}
